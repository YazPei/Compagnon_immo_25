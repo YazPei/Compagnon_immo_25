{
 "cells": [
  {
   "cell_type": "markdown",
   "id": "6142bc29",
   "metadata": {},
   "source": [
    "# Premières régressions"
   ]
  },
  {
   "cell_type": "code",
   "execution_count": 1,
   "id": "4b7f4342",
   "metadata": {},
   "outputs": [
    {
     "name": "stdout",
     "output_type": "stream",
     "text": [
      "Using matplotlib backend: module://matplotlib_inline.backend_inline\n"
     ]
    }
   ],
   "source": [
    "import os\n",
    "import pandas as pd\n",
    "import numpy as np\n",
    "import seaborn as sns\n",
    "import matplotlib.pyplot as plt\n",
    "\n",
    "from sklearn.linear_model import ElasticNetCV\n",
    "from sklearn.linear_model import LinearRegression\n",
    "from sklearn.linear_model import Lasso\n",
    "\n",
    "%matplotlib"
   ]
  },
  {
   "cell_type": "code",
   "execution_count": 5,
   "id": "b25f1366",
   "metadata": {},
   "outputs": [],
   "source": [
    "## Paths\n",
    "# folder_path_M = '/Users/maximehenon/Documents/GitHub/MAR25_BDS_Compagnon_Immo/'\n",
    "# folder_path_Y = 'C:/Users/charl/OneDrive/Documents/Yasmine/DATASCIENTEST/FEV25-BDS-COMPAGNON'\n",
    "folder_path_C = '../data/processed/Sales'\n",
    "#folder_path_L= '/Users/loick.d/Documents/Datascientest/Github immo/MAR25_BDS_Compagnon_Immo/'\n",
    "\n",
    "# Reload datas\n",
    "# X_test_encoded = pd.read_csv(os.path.join(folder_path_M, 'X_test_encoded.csv'), sep=';')\n",
    "# X_train_encoded = pd.read_csv(os.path.join(folder_path_M, 'X_train_encoded.csv'), sep=';')\n",
    "# # y_train_clean = pd.read_csv(os.path.join(folder_path_M, 'y_train_clean.csv'), sep=';')\n",
    "# y_train = pd.read_csv(os.path.join(folder_path_M, 'y_train.csv'), sep=';')\n",
    "\n",
    "# X_test_encoded = pd.read_csv(os.path.join(folder_path_Y, 'X_test_encoded.csv'), sep=';')\n",
    "# X_train_encoded = pd.read_csv(os.path.join(folder_path_Y, 'X_train_encoded.csv'), sep=';')\n",
    "# # y_train_clean = pd.read_csv(os.path.join(folder_path_Y, 'y_train_clean.csv'), sep=';')\n",
    "# y_train = pd.read_csv(os.path.join(folder_path_Y, 'y_train.csv'), sep=';')\n",
    "\n",
    "X_test_encoded = pd.read_csv(os.path.join(folder_path_C, 'X_test_encoded.csv'), sep=';')\n",
    "X_train_encoded = pd.read_csv(os.path.join(folder_path_C, 'X_train_encoded.csv'), sep=';')\n",
    "# y_train_clean = pd.read_csv(os.path.join(folder_path_C, 'y_train_clean.csv'), sep=';')\n",
    "y_train = pd.read_csv(os.path.join(folder_path_C, 'y_train.csv'), sep=';')\n",
    "\n",
    "# X_test_encoded = pd.read_csv(os.path.join(folder_path_L, 'X_test_encoded.csv'), sep=';')\n",
    "# X_train_encoded = pd.read_csv(os.path.join(folder_path_L, 'X_train_encoded.csv'), sep=';')\n",
    "# # y_train_clean = pd.read_csv(os.path.join(folder_path_L, 'y_train_clean.csv'), sep=';')\n",
    "# y_train = pd.read_csv(os.path.join(folder_path_L, 'y_train.csv'), sep=';')\n"
   ]
  },
  {
   "cell_type": "code",
   "execution_count": null,
   "id": "f5a277a1",
   "metadata": {},
   "outputs": [],
   "source": [
    "# liste des features par RFE\n",
    "# ['surface', 'surface_terrain', 'dpeC', 'places_parking', 'charges_copro', 'duree_int', 'loyer_m2_median_n6', 'nb_log_n6', 'taux_rendement_n6', 'loyer_m2_median_n7', 'nb_log_n7', 'taux_rendement_n7', 'bain_outlier_flag', 'duree_int_outlier_flag', 'eau_outlier_flag', 'etage_outlier_flag', 'loyer_m2_median_n6_outlier_flag', 'loyer_m2_median_n7_outlier_flag', 'nb_log_n7_outlier_flag', 'nb_pieces_outlier_flag', 'nb_toilettes_outlier_flag', 'places_parking_outlier_flag', 'surface_outlier_flag', 'surface_terrain_outlier_flag', 'taux_rendement_n6_outlier_flag', 'taux_rendement_n7_outlier_flag', 'ges_class', 'dpeL', 'logement_neuf', 'nb_pieces', 'bain', 'eau', 'nb_toilettes', 'exposition', 'chauffage_energie', 'chauffage_systeme', 'date', 'nb_etages', 'typedebien_a', 'typedebien_an', 'typedebien_m', 'typedebien_mn', 'typedetransaction_vp', 'cave_nan', 'annee_construction_1948-1974', 'annee_construction_2001-2005', 'annee_construction_2006-2012', 'annee_construction_2013-2021', 'annee_construction_MISSING', 'annee_construction_après 2021', 'annee_construction_avant 1948', 'porte_digicode_False', 'porte_digicode_True', 'ascenseur_nan', 'chauffage_mode_Individuel', 'chauffage_mode_Individuel, Central', 'chauffage_mode_MISSING', 'x_geo', 'y_geo', 'z_geo']\n",
    "\n",
    "# X = X_train_encoded[['surface', 'surface_terrain', 'dpeC', 'places_parking', 'charges_copro', 'duree_int', 'loyer_m2_median_n6', 'nb_log_n6', 'taux_rendement_n6', 'loyer_m2_median_n7', 'nb_log_n7', 'taux_rendement_n7', 'bain_outlier_flag', 'charges_copro_outlier_flag', 'codePostal_outlier_flag', 'duree_int_outlier_flag', 'eau_outlier_flag', 'etage_outlier_flag', 'loyer_m2_median_n6_outlier_flag', 'loyer_m2_median_n7_outlier_flag', 'nb_pieces_outlier_flag', 'nb_toilettes_outlier_flag', 'places_parking_outlier_flag', 'surface_outlier_flag', 'surface_terrain_outlier_flag', 'taux_rendement_n6_outlier_flag', 'taux_rendement_n7_outlier_flag', 'ges_class', 'dpeL', 'logement_neuf', 'nb_pieces', 'bain', 'eau', 'nb_toilettes', 'nb_etages', 'exposition', 'chauffage_energie', 'chauffage_systeme', 'date', 'etage_3.0', 'typedebien_a', 'typedebien_an', 'typedebien_m', 'typedebien_mn', 'typedetransaction_pi', 'typedetransaction_v', 'typedetransaction_vp', 'cave_True', 'annee_construction_1948-1974', 'annee_construction_1989-2000', 'annee_construction_2001-2005', 'annee_construction_2006-2012', 'annee_construction_2013-2021', 'annee_construction_MISSING', 'annee_construction_après 2021', 'annee_construction_avant 1948', 'porte_digicode_False', 'ascenseur_False', 'chauffage_mode_Collectif', 'chauffage_mode_Collectif, Central', 'chauffage_mode_Individuel', 'chauffage_mode_Individuel, Central', 'chauffage_mode_MISSING', 'x_geo', 'y_geo', 'z_geo']]\n",
    "X = X_train_encoded[['surface', 'surface_terrain', 'dpeC', 'places_parking', 'charges_copro', 'duree_int', 'loyer_m2_median_n6', 'nb_log_n6', 'taux_rendement_n6', 'loyer_m2_median_n7', 'nb_log_n7', 'taux_rendement_n7', 'bain_outlier_flag', 'duree_int_outlier_flag', 'eau_outlier_flag', 'etage_outlier_flag', 'loyer_m2_median_n6_outlier_flag', 'loyer_m2_median_n7_outlier_flag', 'nb_log_n7_outlier_flag', 'nb_pieces_outlier_flag', 'nb_toilettes_outlier_flag', 'places_parking_outlier_flag', 'surface_outlier_flag', 'surface_terrain_outlier_flag', 'taux_rendement_n6_outlier_flag', 'taux_rendement_n7_outlier_flag', 'ges_class', 'dpeL', 'logement_neuf', 'nb_pieces', 'bain', 'eau', 'nb_toilettes', 'exposition', 'chauffage_energie', 'chauffage_systeme', 'date', 'nb_etages', 'typedebien_a', 'typedebien_an', 'typedebien_m', 'typedebien_mn', 'typedetransaction_vp', 'cave', 'annee_construction_1948-1974', 'annee_construction_2001-2005', 'annee_construction_2006-2012', 'annee_construction_2013-2021', 'annee_construction_MISSING', 'annee_construction_après 2021', 'annee_construction_avant 1948', 'porte_digicode', 'ascenseur', 'chauffage_mode_Individuel', 'chauffage_mode_Individuel, Central', 'chauffage_mode_MISSING', 'x_geo', 'y_geo', 'z_geo']]"
   ]
  },
  {
   "cell_type": "code",
   "execution_count": null,
   "id": "f8d0db40",
   "metadata": {},
   "outputs": [],
   "source": [
    "\n",
    "# Increase max_iter and adjust tol\n",
    "model_en = ElasticNetCV(cv=8, l1_ratio=(0.1, 0.25, 0.5, 0.7, 0.75, 0.8, 0.85, 0.9, 0.99),\n",
    "                        alphas=(0.001, 0.01, 0.02, 0.025, 0.05, 0.1, 0.25, 0.5, 0.8, 1.0),\n",
    "                        max_iter=10000, tol=1e-4)\n",
    "# Ensure y_train is a 1D array\n",
    "y_train = np.ravel(y_train)\n",
    "\n",
    "# Fit the model\n",
    "model_en.fit(X_train_encoded, y_train)"
   ]
  },
  {
   "cell_type": "code",
   "execution_count": null,
   "id": "f98412bc",
   "metadata": {},
   "outputs": [
    {
     "data": {
      "application/vnd.microsoft.datawrangler.viewer.v0+json": {
       "columns": [
        {
         "name": "index",
         "rawType": "object",
         "type": "string"
        },
        {
         "name": "valeur estimée",
         "rawType": "float64",
         "type": "float"
        }
       ],
       "conversionMethod": "pd.DataFrame",
       "ref": "da05bf19-e615-42d9-9c4c-45326e32fc43",
       "rows": [
        [
         "intercept",
         "1547.0930685322808"
        ],
        [
         "surface",
         "-15.724084944704243"
        ],
        [
         "surface_terrain",
         "-6.971294386055286"
        ],
        [
         "dpeC",
         "-38.938984161798736"
        ],
        [
         "places_parking",
         "-21.12080701727325"
        ],
        [
         "charges_copro",
         "56.453773614987576"
        ],
        [
         "duree_int",
         "59.428732541034655"
        ],
        [
         "loyer_m2_median_n6",
         "1587.289447006629"
        ],
        [
         "nb_log_n6",
         "-35.97695284453095"
        ],
        [
         "taux_rendement_n6",
         "-704.7397378204424"
        ],
        [
         "loyer_m2_median_n7",
         "1987.402786851187"
        ],
        [
         "nb_log_n7",
         "3.9556759999508366"
        ],
        [
         "taux_rendement_n7",
         "-2514.989580909273"
        ],
        [
         "bain_outlier_flag",
         "264.4811366055017"
        ],
        [
         "charges_copro_outlier_flag",
         "181.69484228525258"
        ],
        [
         "codePostal_outlier_flag",
         "-181.359849790526"
        ],
        [
         "duree_int_outlier_flag",
         "-72.01800973814412"
        ],
        [
         "eau_outlier_flag",
         "318.69052354242484"
        ],
        [
         "etage_outlier_flag",
         "196.92701022305837"
        ],
        [
         "loyer_m2_median_n6_outlier_flag",
         "385.0225122862679"
        ],
        [
         "loyer_m2_median_n7_outlier_flag",
         "406.20110996171235"
        ],
        [
         "nb_pieces_outlier_flag",
         "-443.7561663195952"
        ],
        [
         "nb_toilettes_outlier_flag",
         "93.15278761818558"
        ],
        [
         "places_parking_outlier_flag",
         "53.4141137270504"
        ],
        [
         "surface_outlier_flag",
         "58.86264217566606"
        ],
        [
         "surface_terrain_outlier_flag",
         "52.42225571642523"
        ],
        [
         "taux_rendement_n6_outlier_flag",
         "145.26314442657318"
        ],
        [
         "taux_rendement_n7_outlier_flag",
         "830.241264228731"
        ],
        [
         "ges_class",
         "-3.29872956180606"
        ],
        [
         "dpeL",
         "-9.433637594815231"
        ],
        [
         "logement_neuf",
         "204.12330991658067"
        ],
        [
         "nb_pieces",
         "-3.065619222571705"
        ],
        [
         "bain",
         "-16.779223514690926"
        ],
        [
         "eau",
         "27.4040050624185"
        ],
        [
         "nb_toilettes",
         "41.783533156577214"
        ],
        [
         "nb_etages",
         "0.05310667706739422"
        ],
        [
         "exposition",
         "56.31485293713639"
        ],
        [
         "chauffage_energie",
         "21.975458673686624"
        ],
        [
         "chauffage_systeme",
         "65.83121904232216"
        ],
        [
         "date",
         "22.2820404882057"
        ],
        [
         "etage_3.0",
         "8.035488009237838"
        ],
        [
         "typedebien_a",
         "119.12738062870125"
        ],
        [
         "typedebien_an",
         "43.13507729643195"
        ],
        [
         "typedebien_m",
         "-15.44483214434964"
        ],
        [
         "typedebien_mn",
         "-25.05768235179917"
        ],
        [
         "typedetransaction_pi",
         "-30.524333122904146"
        ],
        [
         "typedetransaction_v",
         "-83.8469113694517"
        ],
        [
         "typedetransaction_vp",
         "7.223957656031108"
        ],
        [
         "cave_True",
         "7.913966881235473"
        ],
        [
         "annee_construction_1948-1974",
         "-21.91469689917463"
        ]
       ],
       "shape": {
        "columns": 1,
        "rows": 67
       }
      },
      "text/html": [
       "<div>\n",
       "<style scoped>\n",
       "    .dataframe tbody tr th:only-of-type {\n",
       "        vertical-align: middle;\n",
       "    }\n",
       "\n",
       "    .dataframe tbody tr th {\n",
       "        vertical-align: top;\n",
       "    }\n",
       "\n",
       "    .dataframe thead th {\n",
       "        text-align: right;\n",
       "    }\n",
       "</style>\n",
       "<table border=\"1\" class=\"dataframe\">\n",
       "  <thead>\n",
       "    <tr style=\"text-align: right;\">\n",
       "      <th></th>\n",
       "      <th>valeur estimée</th>\n",
       "    </tr>\n",
       "  </thead>\n",
       "  <tbody>\n",
       "    <tr>\n",
       "      <th>intercept</th>\n",
       "      <td>1547.093069</td>\n",
       "    </tr>\n",
       "    <tr>\n",
       "      <th>surface</th>\n",
       "      <td>-15.724085</td>\n",
       "    </tr>\n",
       "    <tr>\n",
       "      <th>surface_terrain</th>\n",
       "      <td>-6.971294</td>\n",
       "    </tr>\n",
       "    <tr>\n",
       "      <th>dpeC</th>\n",
       "      <td>-38.938984</td>\n",
       "    </tr>\n",
       "    <tr>\n",
       "      <th>places_parking</th>\n",
       "      <td>-21.120807</td>\n",
       "    </tr>\n",
       "    <tr>\n",
       "      <th>...</th>\n",
       "      <td>...</td>\n",
       "    </tr>\n",
       "    <tr>\n",
       "      <th>chauffage_mode_Individuel, Central</th>\n",
       "      <td>11.038203</td>\n",
       "    </tr>\n",
       "    <tr>\n",
       "      <th>chauffage_mode_MISSING</th>\n",
       "      <td>-27.631773</td>\n",
       "    </tr>\n",
       "    <tr>\n",
       "      <th>x_geo</th>\n",
       "      <td>2478.631824</td>\n",
       "    </tr>\n",
       "    <tr>\n",
       "      <th>y_geo</th>\n",
       "      <td>-146.658303</td>\n",
       "    </tr>\n",
       "    <tr>\n",
       "      <th>z_geo</th>\n",
       "      <td>62.687454</td>\n",
       "    </tr>\n",
       "  </tbody>\n",
       "</table>\n",
       "<p>67 rows × 1 columns</p>\n",
       "</div>"
      ],
      "text/plain": [
       "                                    valeur estimée\n",
       "intercept                              1547.093069\n",
       "surface                                 -15.724085\n",
       "surface_terrain                          -6.971294\n",
       "dpeC                                    -38.938984\n",
       "places_parking                          -21.120807\n",
       "...                                            ...\n",
       "chauffage_mode_Individuel, Central       11.038203\n",
       "chauffage_mode_MISSING                  -27.631773\n",
       "x_geo                                  2478.631824\n",
       "y_geo                                  -146.658303\n",
       "z_geo                                    62.687454\n",
       "\n",
       "[67 rows x 1 columns]"
      ]
     },
     "execution_count": 16,
     "metadata": {},
     "output_type": "execute_result"
    }
   ],
   "source": [
    "\n",
    "coeffs = list(model_en.coef_)\n",
    "coeffs.insert(0, model_en.intercept_)\n",
    "feats = list(X.columns)\n",
    "feats.insert(0, 'intercept')\n",
    "pd.DataFrame({'valeur estimée': coeffs}, index=feats)\n",
    "\n",
    "\n"
   ]
  },
  {
   "cell_type": "code",
   "execution_count": 84,
   "id": "adb22259",
   "metadata": {},
   "outputs": [
    {
     "data": {
      "application/vnd.microsoft.datawrangler.viewer.v0+json": {
       "columns": [
        {
         "name": "index",
         "rawType": "object",
         "type": "string"
        },
        {
         "name": "residus",
         "rawType": "float64",
         "type": "float"
        }
       ],
       "conversionMethod": "pd.DataFrame",
       "ref": "51c02c30-3a04-4feb-bce1-f2775eabcaf5",
       "rows": [
        [
         "count",
         "4147030.0"
        ],
        [
         "mean",
         "-1.4825845067867038e-12"
        ],
        [
         "std",
         "1258.3402113624868"
        ],
        [
         "min",
         "-40010.45085945507"
        ],
        [
         "25%",
         "-436.6876435642889"
        ],
        [
         "50%",
         "19.824246758485742"
        ],
        [
         "75%",
         "527.9687494210784"
        ],
        [
         "max",
         "580841.3029234147"
        ]
       ],
       "shape": {
        "columns": 1,
        "rows": 8
       }
      },
      "text/html": [
       "<div>\n",
       "<style scoped>\n",
       "    .dataframe tbody tr th:only-of-type {\n",
       "        vertical-align: middle;\n",
       "    }\n",
       "\n",
       "    .dataframe tbody tr th {\n",
       "        vertical-align: top;\n",
       "    }\n",
       "\n",
       "    .dataframe thead th {\n",
       "        text-align: right;\n",
       "    }\n",
       "</style>\n",
       "<table border=\"1\" class=\"dataframe\">\n",
       "  <thead>\n",
       "    <tr style=\"text-align: right;\">\n",
       "      <th></th>\n",
       "      <th>residus</th>\n",
       "    </tr>\n",
       "  </thead>\n",
       "  <tbody>\n",
       "    <tr>\n",
       "      <th>count</th>\n",
       "      <td>4.147030e+06</td>\n",
       "    </tr>\n",
       "    <tr>\n",
       "      <th>mean</th>\n",
       "      <td>-1.482585e-12</td>\n",
       "    </tr>\n",
       "    <tr>\n",
       "      <th>std</th>\n",
       "      <td>1.258340e+03</td>\n",
       "    </tr>\n",
       "    <tr>\n",
       "      <th>min</th>\n",
       "      <td>-4.001045e+04</td>\n",
       "    </tr>\n",
       "    <tr>\n",
       "      <th>25%</th>\n",
       "      <td>-4.366876e+02</td>\n",
       "    </tr>\n",
       "    <tr>\n",
       "      <th>50%</th>\n",
       "      <td>1.982425e+01</td>\n",
       "    </tr>\n",
       "    <tr>\n",
       "      <th>75%</th>\n",
       "      <td>5.279687e+02</td>\n",
       "    </tr>\n",
       "    <tr>\n",
       "      <th>max</th>\n",
       "      <td>5.808413e+05</td>\n",
       "    </tr>\n",
       "  </tbody>\n",
       "</table>\n",
       "</div>"
      ],
      "text/plain": [
       "            residus\n",
       "count  4.147030e+06\n",
       "mean  -1.482585e-12\n",
       "std    1.258340e+03\n",
       "min   -4.001045e+04\n",
       "25%   -4.366876e+02\n",
       "50%    1.982425e+01\n",
       "75%    5.279687e+02\n",
       "max    5.808413e+05"
      ]
     },
     "metadata": {},
     "output_type": "display_data"
    },
    {
     "data": {
      "text/plain": [
       "(0.0, 20000.0)"
      ]
     },
     "execution_count": 84,
     "metadata": {},
     "output_type": "execute_result"
    },
    {
     "data": {
      "image/png": "[encoded data removed]",
      "text/plain": [
       "<Figure size 640x480 with 1 Axes>"
      ]
     },
     "metadata": {},
     "output_type": "display_data"
    }
   ],
   "source": [
    "\n",
    "pred_train = model_en.predict(X)\n",
    "pred_train = pd.DataFrame(pred_train, columns=['pred_train'])\n",
    "residus = pred_train.values - y_train.values\n",
    "residus = pd.DataFrame(residus, columns=['residus'])\n",
    "display(residus.describe())\n",
    "\n",
    "plt.scatter(y_train, residus, color='#980a10', s=15)\n",
    "plt.plot((y_train.min(), y_train.max()), (0, 0), lw=3, color='#0a5798');\n",
    "plt.xlim(0,20000) #  y_train.max())"
   ]
  },
  {
   "cell_type": "markdown",
   "id": "d47e22a3",
   "metadata": {},
   "source": [
    "# GridSearch\n",
    "\n",
    "Il est aussi fréquent d'entrainer plusieurs modèles différents, de comparer les performances de chacun (scores, overfitting, temps d'entrainement) et de choisir le meilleur.\n",
    "\n",
    "C'est celui-ci que l'on optimise ensuite grâce à GridSearchCV en jouant sur les hyperparamètres."
   ]
  },
  {
   "cell_type": "markdown",
   "id": "d874ac49",
   "metadata": {},
   "source": [
    "## Random Forest Regressor"
   ]
  },
  {
   "cell_type": "code",
   "execution_count": null,
   "id": "897f3e99",
   "metadata": {},
   "outputs": [],
   "source": [
    "from sklearn.ensemble import RandomForestRegressor\n",
    "from sklearn.model_selection import GridSearchCV\n",
    "\n",
    "# Define the model\n",
    "rf = RandomForestRegressor()\n",
    "\n",
    "# Define the parameter grid\n",
    "param_grid_rf = {\n",
    "    'n_estimators': [100, 200, 300],\n",
    "    'max_features': ['auto', 'sqrt', 'log2'],\n",
    "    'max_depth': [10, 20, 30, None],\n",
    "    'min_samples_split': [2, 5, 10],\n",
    "    'min_samples_leaf': [1, 2, 4]\n",
    "}\n",
    "\n",
    "# Set up GridSearchCV\n",
    "grid_search_rf = GridSearchCV(estimator=rf, param_grid=param_grid_rf, cv=5, n_jobs=-1, verbose=2)\n",
    "\n",
    "# Fit the model\n",
    "grid_search_rf.fit(X_train_encoded, y_train)\n",
    "\n",
    "# Best parameters\n",
    "print(\"Best parameters for RandomForestRegressor:\", grid_search_rf.best_params_)"
   ]
  },
  {
   "cell_type": "markdown",
   "id": "ecb611f9",
   "metadata": {},
   "source": [
    "## KNN Regressor"
   ]
  },
  {
   "cell_type": "code",
   "execution_count": null,
   "id": "e4e6fae0",
   "metadata": {},
   "outputs": [],
   "source": [
    "from sklearn.neighbors import KNeighborsRegressor\n",
    "\n",
    "# Define the model\n",
    "knn = KNeighborsRegressor()\n",
    "\n",
    "# Define the parameter grid\n",
    "param_grid_knn = {\n",
    "    'n_neighbors': [3, 5, 7, 9],\n",
    "    'weights': ['uniform', 'distance'],\n",
    "    'metric': ['euclidean', 'manhattan', 'minkowski']\n",
    "}\n",
    "\n",
    "# Set up GridSearchCV\n",
    "grid_search_knn = GridSearchCV(estimator=knn, param_grid=param_grid_knn, cv=5, n_jobs=-1, verbose=2)\n",
    "\n",
    "# Fit the model\n",
    "grid_search_knn.fit(X_train_encoded, y_train)\n",
    "\n",
    "# Best parameters\n",
    "print(\"Best parameters for KNeighborsRegressor:\", grid_search_knn.best_params_)"
   ]
  },
  {
   "cell_type": "markdown",
   "id": "42f06b11",
   "metadata": {},
   "source": [
    "## SVM Regressor"
   ]
  },
  {
   "cell_type": "code",
   "execution_count": null,
   "id": "9b01a267",
   "metadata": {},
   "outputs": [],
   "source": [
    "from sklearn.svm import SVR\n",
    "\n",
    "# Define the model\n",
    "svr = SVR()\n",
    "\n",
    "# Define the parameter grid\n",
    "param_grid_svr = {\n",
    "    'C': [0.1, 1, 10, 100],\n",
    "    'epsilon': [0.01, 0.1, 0.2, 0.5],\n",
    "    'kernel': ['linear', 'poly', 'rbf', 'sigmoid']\n",
    "}\n",
    "\n",
    "# Set up GridSearchCV\n",
    "grid_search_svr = GridSearchCV(estimator=svr, param_grid=param_grid_svr, cv=5, n_jobs=-1, verbose=2)\n",
    "\n",
    "# Fit the model\n",
    "grid_search_svr.fit(X_train_encoded, y_train)\n",
    "\n",
    "# Best parameters\n",
    "print(\"Best parameters for SVR:\", grid_search_svr.best_params_)"
   ]
  },
  {
   "cell_type": "markdown",
   "id": "26d05564",
   "metadata": {},
   "source": [
    "## XGBoostRegressor"
   ]
  },
  {
   "cell_type": "code",
   "execution_count": null,
   "id": "48226f2a",
   "metadata": {},
   "outputs": [],
   "source": [
    "!pip install xgboost"
   ]
  },
  {
   "cell_type": "code",
   "execution_count": null,
   "id": "014cbfc1",
   "metadata": {},
   "outputs": [],
   "source": [
    "import xgboost as xgb\n",
    "\n",
    "# Define the model\n",
    "xgboost = xgb.XGBRegressor()\n",
    "\n",
    "# Define the parameter grid\n",
    "param_grid_xgboost = {\n",
    "    'n_estimators': [100, 200, 300],\n",
    "    'learning_rate': [0.01, 0.1, 0.2],\n",
    "    'max_depth': [3, 5, 7],\n",
    "    'subsample': [0.8, 1.0],\n",
    "    'colsample_bytree': [0.8, 1.0]\n",
    "}\n",
    "\n",
    "# Set up GridSearchCV\n",
    "grid_search_xgboost = GridSearchCV(estimator=xgboost, param_grid=param_grid_xgboost, cv=5, n_jobs=-1, verbose=2)\n",
    "\n",
    "# Fit the model\n",
    "grid_search_xgboost.fit(X_train_encoded, y_train)\n",
    "\n",
    "# Best parameters\n",
    "print(\"Best parameters for XGBoostRegressor:\", grid_search_xgboost.best_params_)"
   ]
  }
 ],
 "metadata": {
  "kernelspec": {
   "display_name": "base",
   "language": "python",
   "name": "python3"
  },
  "language_info": {
   "codemirror_mode": {
    "name": "ipython",
    "version": 3
   },
   "file_extension": ".py",
   "mimetype": "text/x-python",
   "name": "python",
   "nbconvert_exporter": "python",
   "pygments_lexer": "ipython3",
   "version": "3.12.7"
  }
 },
 "nbformat": 4,
 "nbformat_minor": 5
}
