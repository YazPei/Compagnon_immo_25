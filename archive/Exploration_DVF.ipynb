{
 "cells": [
  {
   "cell_type": "code",
   "execution_count": 1,
   "id": "a1f23b30",
   "metadata": {},
   "outputs": [
    {
     "name": "stdout",
     "output_type": "stream",
     "text": [
      "Using matplotlib backend: module://matplotlib_inline.backend_inline\n"
     ]
    }
   ],
   "source": [
    "import os\n",
    "import pandas as pd\n",
    "\n",
    "import plotly.express as px \n",
    "import plotly.graph_objects as go   \n",
    "\n",
    "import seaborn as sns\n",
    "import matplotlib.pyplot as plt\n",
    "\n",
    "%matplotlib"
   ]
  },
  {
   "cell_type": "markdown",
   "id": "a67d382c",
   "metadata": {},
   "source": [
    "# Import des données brutes"
   ]
  },
  {
   "cell_type": "markdown",
   "id": "5bc0e8d4",
   "metadata": {},
   "source": [
    "## Fichier des demandes de valeurs foncières diffusé par la DGFiP"
   ]
  },
  {
   "cell_type": "markdown",
   "id": "eb561d0b",
   "metadata": {},
   "source": [
    "### Description\n",
    "\n",
    "Ce jeu de données est dérivé du jeu de données Demandes de valeurs foncières diffusé par la DGFiP.\n",
    "\n",
    "Il propose un format alternatif, normalisé et enrichi.\n",
    "\n",
    "Améliorations par rapport aux fichiers bruts\n",
    "CSV avec séparateur virgule et encodage UTF-8\n",
    "Mise à jour avec les données de référence les plus récentes (COG 2020, PCI 2020)\n",
    "Renommage des colonnes pour un traitement informatique plus facile\n",
    "Suppression des colonnes non fournies dans la diffusion DVF\n",
    "Jointure avec les tables fournies en documentation\n",
    "Normalisation des valeurs décimales (point comme séparateur décimal)\n",
    "Normalisation des codes postaux (5 caractères)\n",
    "Normalisation des codes INSEE\n",
    "Libellés de communes riches (accentués)\n",
    "Normalisation des codes voie (FANTOIR) (4 caractères)\n",
    "Création d'un identifiant de parcelle compatible avec les fichiers cadastraux proposés par Etalab\n",
    "Date de mutation au format ISO-8601\n",
    "Géocodage latitude/longitude à la parcelle en coordonnées WGS-84\n",
    "Fourniture des fichiers au département ou à la commune\n",
    "\n",
    "*   `id_mutation` : Identifiant de mutation (non stable, sert à grouper les lignes)\n",
    "    \n",
    "*   `date_mutation` : Date de la mutation au format ISO-8601 (YYYY-MM-DD)\n",
    "    \n",
    "*   `numero_disposition` : Numéro de disposition\n",
    "    \n",
    "*   `nature_mutation` : Nature de la mutation\n",
    "    \n",
    "*   `valeur_fonciere` : Valeur foncière (séparateur décimal = point)\n",
    "    \n",
    "*   `adresse_numero` : Numéro de l'adresse\n",
    "    \n",
    "*   `adresse_suffixe` : Suffixe du numéro de l'adresse (B, T, Q)\n",
    "    \n",
    "*   `adresse_code_voie` : Code FANTOIR de la voie (4 caractères)\n",
    "    \n",
    "*   `adresse_nom_voie` : Nom de la voie de l'adresse\n",
    "    \n",
    "*   `code_postal` : Code postal (5 caractères)\n",
    "    \n",
    "*   `code_commune` : Code commune INSEE (5 caractères)\n",
    "    \n",
    "*   `nom_commune` : Nom de la commune (accentué)\n",
    "    \n",
    "*   `ancien_code_commune` : Ancien code commune INSEE (si différent lors de la mutation)\n",
    "    \n",
    "*   `ancien_nom_commune` : Ancien nom de la commune (si différent lors de la mutation)\n",
    "    \n",
    "*   `code_departement` : Code département INSEE (2 ou 3 caractères)\n",
    "    \n",
    "*   `id_parcelle` : Identifiant de parcelle (14 caractères)\n",
    "    \n",
    "*   `ancien_id_parcelle` : Ancien identifiant de parcelle (si différent lors de la mutation)\n",
    "    \n",
    "*   `numero_volume` : Numéro de volume\n",
    "    \n",
    "*   `lot_1_numero` : Numéro du lot 1\n",
    "    \n",
    "*   `lot_1_surface_carrez` : Surface Carrez du lot 1\n",
    "    \n",
    "*   `lot_2_numero` : Numéro du lot 2\n",
    "    \n",
    "*   `lot_2_surface_carrez` : Surface Carrez du lot 2\n",
    "    \n",
    "*   `lot_3_numero` : Numéro du lot 3\n",
    "    \n",
    "*   `lot_3_surface_carrez` : Surface Carrez du lot 3\n",
    "    \n",
    "*   `lot_4_numero` : Numéro du lot 4\n",
    "    \n",
    "*   `lot_4_surface_carrez` : Surface Carrez du lot 4\n",
    "    \n",
    "*   `lot_5_numero` : Numéro du lot 5\n",
    "    \n",
    "*   `lot_5_surface_carrez` : Surface Carrez du lot 5\n",
    "    \n",
    "*   `nombre_lots` : Nombre de lots\n",
    "    \n",
    "*   `code_type_local` : Code de type de local\n",
    "    \n",
    "*   `type_local` : Libellé du type de local\n",
    "    \n",
    "*   `surface_reelle_bati` : Surface réelle du bâti\n",
    "    \n",
    "*   `nombre_pieces_principales` : Nombre de pièces principales\n",
    "    \n",
    "*   `code_nature_culture` : Code de nature de culture\n",
    "    \n",
    "*   `nature_culture` : Libellé de nature de culture\n",
    "    \n",
    "*   `code_nature_culture_speciale` : Code de nature de culture spéciale\n",
    "    \n",
    "*   `nature_culture_speciale` : Libellé de nature de culture spéciale\n",
    "    \n",
    "*   `surface_terrain` : Surface du terrain\n",
    "    \n",
    "*   `longitude` : Longitude du centre de la parcelle concernée (WGS-84)\n",
    "    \n",
    "*   `latitude` : Latitude du centre de la parcelle concernée (WGS-84)"
   ]
  },
  {
   "cell_type": "code",
   "execution_count": 2,
   "id": "75f2b616",
   "metadata": {},
   "outputs": [
    {
     "data": {
      "application/vnd.microsoft.datawrangler.viewer.v0+json": {
       "columns": [
        {
         "name": "index",
         "rawType": "int64",
         "type": "integer"
        },
        {
         "name": "id_mutation",
         "rawType": "object",
         "type": "string"
        },
        {
         "name": "date_mutation",
         "rawType": "object",
         "type": "string"
        },
        {
         "name": "numero_disposition",
         "rawType": "float64",
         "type": "float"
        },
        {
         "name": "nature_mutation",
         "rawType": "object",
         "type": "string"
        },
        {
         "name": "valeur_fonciere",
         "rawType": "float64",
         "type": "float"
        },
        {
         "name": "adresse_numero",
         "rawType": "float64",
         "type": "float"
        },
        {
         "name": "adresse_suffixe",
         "rawType": "object",
         "type": "unknown"
        },
        {
         "name": "adresse_nom_voie",
         "rawType": "object",
         "type": "string"
        },
        {
         "name": "adresse_code_voie",
         "rawType": "object",
         "type": "string"
        },
        {
         "name": "code_postal",
         "rawType": "float64",
         "type": "float"
        },
        {
         "name": "code_commune",
         "rawType": "object",
         "type": "string"
        },
        {
         "name": "nom_commune",
         "rawType": "object",
         "type": "string"
        },
        {
         "name": "code_departement",
         "rawType": "object",
         "type": "string"
        },
        {
         "name": "ancien_code_commune",
         "rawType": "float64",
         "type": "float"
        },
        {
         "name": "ancien_nom_commune",
         "rawType": "object",
         "type": "unknown"
        },
        {
         "name": "id_parcelle",
         "rawType": "object",
         "type": "string"
        },
        {
         "name": "ancien_id_parcelle",
         "rawType": "float64",
         "type": "float"
        },
        {
         "name": "numero_volume",
         "rawType": "object",
         "type": "unknown"
        },
        {
         "name": "lot1_numero",
         "rawType": "object",
         "type": "unknown"
        },
        {
         "name": "lot1_surface_carrez",
         "rawType": "float64",
         "type": "float"
        },
        {
         "name": "lot2_numero",
         "rawType": "object",
         "type": "unknown"
        },
        {
         "name": "lot2_surface_carrez",
         "rawType": "float64",
         "type": "float"
        },
        {
         "name": "lot3_numero",
         "rawType": "object",
         "type": "unknown"
        },
        {
         "name": "lot3_surface_carrez",
         "rawType": "float64",
         "type": "float"
        },
        {
         "name": "lot4_numero",
         "rawType": "object",
         "type": "unknown"
        },
        {
         "name": "lot4_surface_carrez",
         "rawType": "float64",
         "type": "float"
        },
        {
         "name": "lot5_numero",
         "rawType": "object",
         "type": "unknown"
        },
        {
         "name": "lot5_surface_carrez",
         "rawType": "float64",
         "type": "float"
        },
        {
         "name": "nombre_lots",
         "rawType": "float64",
         "type": "float"
        },
        {
         "name": "code_type_local",
         "rawType": "float64",
         "type": "float"
        },
        {
         "name": "type_local",
         "rawType": "object",
         "type": "string"
        },
        {
         "name": "surface_reelle_bati",
         "rawType": "float64",
         "type": "float"
        },
        {
         "name": "nombre_pieces_principales",
         "rawType": "float64",
         "type": "float"
        },
        {
         "name": "code_nature_culture",
         "rawType": "object",
         "type": "unknown"
        },
        {
         "name": "nature_culture",
         "rawType": "object",
         "type": "unknown"
        },
        {
         "name": "code_nature_culture_speciale",
         "rawType": "object",
         "type": "unknown"
        },
        {
         "name": "nature_culture_speciale",
         "rawType": "object",
         "type": "unknown"
        },
        {
         "name": "surface_terrain",
         "rawType": "float64",
         "type": "float"
        },
        {
         "name": "longitude",
         "rawType": "float64",
         "type": "float"
        },
        {
         "name": "latitude",
         "rawType": "float64",
         "type": "float"
        }
       ],
       "conversionMethod": "pd.DataFrame",
       "ref": "4e086d10-49b4-4621-923c-9f0cc03908ad",
       "rows": [
        [
         "0",
         "2023-1",
         "2023-01-05",
         "1.0",
         "Vente",
         "1070000.0",
         "184.0",
         null,
         "ALL DES HETRES",
         "0124",
         "1630.0",
         "01354",
         "Saint-Genis-Pouilly",
         "01",
         null,
         null,
         "01354000BD0334",
         null,
         null,
         "29",
         null,
         null,
         null,
         null,
         null,
         null,
         null,
         null,
         null,
         "1.0",
         "3.0",
         "Dépendance",
         null,
         "0.0",
         null,
         null,
         null,
         null,
         null,
         "6.019949",
         "46.247458"
        ],
        [
         "1",
         "2023-1",
         "2023-01-05",
         "1.0",
         "Vente",
         "1070000.0",
         "159.0",
         null,
         "ALL DES HETRES",
         "0124",
         "1630.0",
         "01354",
         "Saint-Genis-Pouilly",
         "01",
         null,
         null,
         "01354000BD0336",
         null,
         null,
         "22",
         null,
         null,
         null,
         null,
         null,
         null,
         null,
         null,
         null,
         "1.0",
         "2.0",
         "Appartement",
         "233.0",
         "8.0",
         null,
         null,
         null,
         null,
         null,
         "6.020204",
         "46.247228"
        ],
        [
         "2",
         "2023-1",
         "2023-01-05",
         "1.0",
         "Vente",
         "1070000.0",
         "159.0",
         null,
         "ALL DES HETRES",
         "0124",
         "1630.0",
         "01354",
         "Saint-Genis-Pouilly",
         "01",
         null,
         null,
         "01354000BD0336",
         null,
         null,
         "8",
         null,
         null,
         null,
         null,
         null,
         null,
         null,
         null,
         null,
         "1.0",
         "3.0",
         "Dépendance",
         null,
         "0.0",
         null,
         null,
         null,
         null,
         null,
         "6.020204",
         "46.247228"
        ],
        [
         "3",
         "2023-2",
         "2023-01-03",
         "1.0",
         "Vente",
         "152200.0",
         "2914.0",
         null,
         "RTE DE PONCIN",
         "0107",
         "1450.0",
         "01404",
         "Serrières-sur-Ain",
         "01",
         null,
         null,
         "014040000D2317",
         null,
         null,
         null,
         null,
         null,
         null,
         null,
         null,
         null,
         null,
         null,
         null,
         "0.0",
         "1.0",
         "Maison",
         "64.0",
         "3.0",
         "S",
         "sols",
         null,
         null,
         "988.0",
         "5.438273",
         "46.129859"
        ],
        [
         "4",
         "2023-3",
         "2023-01-05",
         "1.0",
         "Vente",
         "269000.0",
         "427.0",
         "T",
         "CHE DE L'AUBEPIN",
         "0040",
         "1800.0",
         "01361",
         "Saint-Jean-de-Niost",
         "01",
         null,
         null,
         "013610000B2405",
         null,
         null,
         null,
         null,
         null,
         null,
         null,
         null,
         null,
         null,
         null,
         null,
         "0.0",
         "1.0",
         "Maison",
         "73.0",
         "3.0",
         "S",
         "sols",
         null,
         null,
         "835.0",
         "5.225844",
         "45.853513"
        ]
       ],
       "shape": {
        "columns": 40,
        "rows": 5
       }
      },
      "text/html": [
       "<div>\n",
       "<style scoped>\n",
       "    .dataframe tbody tr th:only-of-type {\n",
       "        vertical-align: middle;\n",
       "    }\n",
       "\n",
       "    .dataframe tbody tr th {\n",
       "        vertical-align: top;\n",
       "    }\n",
       "\n",
       "    .dataframe thead th {\n",
       "        text-align: right;\n",
       "    }\n",
       "</style>\n",
       "<table border=\"1\" class=\"dataframe\">\n",
       "  <thead>\n",
       "    <tr style=\"text-align: right;\">\n",
       "      <th></th>\n",
       "      <th>id_mutation</th>\n",
       "      <th>date_mutation</th>\n",
       "      <th>numero_disposition</th>\n",
       "      <th>nature_mutation</th>\n",
       "      <th>valeur_fonciere</th>\n",
       "      <th>adresse_numero</th>\n",
       "      <th>adresse_suffixe</th>\n",
       "      <th>adresse_nom_voie</th>\n",
       "      <th>adresse_code_voie</th>\n",
       "      <th>code_postal</th>\n",
       "      <th>...</th>\n",
       "      <th>type_local</th>\n",
       "      <th>surface_reelle_bati</th>\n",
       "      <th>nombre_pieces_principales</th>\n",
       "      <th>code_nature_culture</th>\n",
       "      <th>nature_culture</th>\n",
       "      <th>code_nature_culture_speciale</th>\n",
       "      <th>nature_culture_speciale</th>\n",
       "      <th>surface_terrain</th>\n",
       "      <th>longitude</th>\n",
       "      <th>latitude</th>\n",
       "    </tr>\n",
       "  </thead>\n",
       "  <tbody>\n",
       "    <tr>\n",
       "      <th>0</th>\n",
       "      <td>2023-1</td>\n",
       "      <td>2023-01-05</td>\n",
       "      <td>1.0</td>\n",
       "      <td>Vente</td>\n",
       "      <td>1070000.0</td>\n",
       "      <td>184.0</td>\n",
       "      <td>NaN</td>\n",
       "      <td>ALL DES HETRES</td>\n",
       "      <td>0124</td>\n",
       "      <td>1630.0</td>\n",
       "      <td>...</td>\n",
       "      <td>Dépendance</td>\n",
       "      <td>NaN</td>\n",
       "      <td>0.0</td>\n",
       "      <td>NaN</td>\n",
       "      <td>NaN</td>\n",
       "      <td>NaN</td>\n",
       "      <td>NaN</td>\n",
       "      <td>NaN</td>\n",
       "      <td>6.019949</td>\n",
       "      <td>46.247458</td>\n",
       "    </tr>\n",
       "    <tr>\n",
       "      <th>1</th>\n",
       "      <td>2023-1</td>\n",
       "      <td>2023-01-05</td>\n",
       "      <td>1.0</td>\n",
       "      <td>Vente</td>\n",
       "      <td>1070000.0</td>\n",
       "      <td>159.0</td>\n",
       "      <td>NaN</td>\n",
       "      <td>ALL DES HETRES</td>\n",
       "      <td>0124</td>\n",
       "      <td>1630.0</td>\n",
       "      <td>...</td>\n",
       "      <td>Appartement</td>\n",
       "      <td>233.0</td>\n",
       "      <td>8.0</td>\n",
       "      <td>NaN</td>\n",
       "      <td>NaN</td>\n",
       "      <td>NaN</td>\n",
       "      <td>NaN</td>\n",
       "      <td>NaN</td>\n",
       "      <td>6.020204</td>\n",
       "      <td>46.247228</td>\n",
       "    </tr>\n",
       "    <tr>\n",
       "      <th>2</th>\n",
       "      <td>2023-1</td>\n",
       "      <td>2023-01-05</td>\n",
       "      <td>1.0</td>\n",
       "      <td>Vente</td>\n",
       "      <td>1070000.0</td>\n",
       "      <td>159.0</td>\n",
       "      <td>NaN</td>\n",
       "      <td>ALL DES HETRES</td>\n",
       "      <td>0124</td>\n",
       "      <td>1630.0</td>\n",
       "      <td>...</td>\n",
       "      <td>Dépendance</td>\n",
       "      <td>NaN</td>\n",
       "      <td>0.0</td>\n",
       "      <td>NaN</td>\n",
       "      <td>NaN</td>\n",
       "      <td>NaN</td>\n",
       "      <td>NaN</td>\n",
       "      <td>NaN</td>\n",
       "      <td>6.020204</td>\n",
       "      <td>46.247228</td>\n",
       "    </tr>\n",
       "    <tr>\n",
       "      <th>3</th>\n",
       "      <td>2023-2</td>\n",
       "      <td>2023-01-03</td>\n",
       "      <td>1.0</td>\n",
       "      <td>Vente</td>\n",
       "      <td>152200.0</td>\n",
       "      <td>2914.0</td>\n",
       "      <td>NaN</td>\n",
       "      <td>RTE DE PONCIN</td>\n",
       "      <td>0107</td>\n",
       "      <td>1450.0</td>\n",
       "      <td>...</td>\n",
       "      <td>Maison</td>\n",
       "      <td>64.0</td>\n",
       "      <td>3.0</td>\n",
       "      <td>S</td>\n",
       "      <td>sols</td>\n",
       "      <td>NaN</td>\n",
       "      <td>NaN</td>\n",
       "      <td>988.0</td>\n",
       "      <td>5.438273</td>\n",
       "      <td>46.129859</td>\n",
       "    </tr>\n",
       "    <tr>\n",
       "      <th>4</th>\n",
       "      <td>2023-3</td>\n",
       "      <td>2023-01-05</td>\n",
       "      <td>1.0</td>\n",
       "      <td>Vente</td>\n",
       "      <td>269000.0</td>\n",
       "      <td>427.0</td>\n",
       "      <td>T</td>\n",
       "      <td>CHE DE L'AUBEPIN</td>\n",
       "      <td>0040</td>\n",
       "      <td>1800.0</td>\n",
       "      <td>...</td>\n",
       "      <td>Maison</td>\n",
       "      <td>73.0</td>\n",
       "      <td>3.0</td>\n",
       "      <td>S</td>\n",
       "      <td>sols</td>\n",
       "      <td>NaN</td>\n",
       "      <td>NaN</td>\n",
       "      <td>835.0</td>\n",
       "      <td>5.225844</td>\n",
       "      <td>45.853513</td>\n",
       "    </tr>\n",
       "  </tbody>\n",
       "</table>\n",
       "<p>5 rows × 40 columns</p>\n",
       "</div>"
      ],
      "text/plain": [
       "  id_mutation date_mutation  numero_disposition nature_mutation  \\\n",
       "0      2023-1    2023-01-05                 1.0           Vente   \n",
       "1      2023-1    2023-01-05                 1.0           Vente   \n",
       "2      2023-1    2023-01-05                 1.0           Vente   \n",
       "3      2023-2    2023-01-03                 1.0           Vente   \n",
       "4      2023-3    2023-01-05                 1.0           Vente   \n",
       "\n",
       "   valeur_fonciere  adresse_numero adresse_suffixe  adresse_nom_voie  \\\n",
       "0        1070000.0           184.0             NaN    ALL DES HETRES   \n",
       "1        1070000.0           159.0             NaN    ALL DES HETRES   \n",
       "2        1070000.0           159.0             NaN    ALL DES HETRES   \n",
       "3         152200.0          2914.0             NaN     RTE DE PONCIN   \n",
       "4         269000.0           427.0               T  CHE DE L'AUBEPIN   \n",
       "\n",
       "  adresse_code_voie  code_postal  ...   type_local surface_reelle_bati  \\\n",
       "0              0124       1630.0  ...   Dépendance                 NaN   \n",
       "1              0124       1630.0  ...  Appartement               233.0   \n",
       "2              0124       1630.0  ...   Dépendance                 NaN   \n",
       "3              0107       1450.0  ...       Maison                64.0   \n",
       "4              0040       1800.0  ...       Maison                73.0   \n",
       "\n",
       "  nombre_pieces_principales  code_nature_culture nature_culture  \\\n",
       "0                       0.0                  NaN            NaN   \n",
       "1                       8.0                  NaN            NaN   \n",
       "2                       0.0                  NaN            NaN   \n",
       "3                       3.0                    S           sols   \n",
       "4                       3.0                    S           sols   \n",
       "\n",
       "  code_nature_culture_speciale  nature_culture_speciale surface_terrain  \\\n",
       "0                          NaN                      NaN             NaN   \n",
       "1                          NaN                      NaN             NaN   \n",
       "2                          NaN                      NaN             NaN   \n",
       "3                          NaN                      NaN           988.0   \n",
       "4                          NaN                      NaN           835.0   \n",
       "\n",
       "  longitude   latitude  \n",
       "0  6.019949  46.247458  \n",
       "1  6.020204  46.247228  \n",
       "2  6.020204  46.247228  \n",
       "3  5.438273  46.129859  \n",
       "4  5.225844  45.853513  \n",
       "\n",
       "[5 rows x 40 columns]"
      ]
     },
     "execution_count": 2,
     "metadata": {},
     "output_type": "execute_result"
    }
   ],
   "source": [
    "folder_path = '../data/raw/DVF'\n",
    "input_file = os.path.join(folder_path, 'merged_dvf_data.csv')\n",
    "\n",
    "df_dvf = pd.read_csv(input_file, sep=',', index_col=None, low_memory=False)\n",
    "df_dvf.head()"
   ]
  },
  {
   "cell_type": "markdown",
   "id": "9744f211",
   "metadata": {},
   "source": [
    "### Valeurs manquantes (NAN)"
   ]
  },
  {
   "cell_type": "code",
   "execution_count": 3,
   "id": "53245303",
   "metadata": {},
   "outputs": [
    {
     "data": {
      "application/vnd.microsoft.datawrangler.viewer.v0+json": {
       "columns": [
        {
         "name": "index",
         "rawType": "object",
         "type": "string"
        },
        {
         "name": "column_name",
         "rawType": "object",
         "type": "string"
        },
        {
         "name": "percent_missing",
         "rawType": "float64",
         "type": "float"
        },
        {
         "name": "dtypes",
         "rawType": "object",
         "type": "unknown"
        }
       ],
       "conversionMethod": "pd.DataFrame",
       "ref": "18a9f1e0-1c94-4185-9a87-7881ed34a2bf",
       "rows": [
        [
         "ancien_id_parcelle",
         "ancien_id_parcelle",
         "100.0",
         "float64"
        ],
        [
         "ancien_code_commune",
         "ancien_code_commune",
         "99.99834142432516",
         "float64"
        ],
        [
         "ancien_nom_commune",
         "ancien_nom_commune",
         "99.99834142432516",
         "object"
        ],
        [
         "lot5_surface_carrez",
         "lot5_surface_carrez",
         "99.97651904100782",
         "float64"
        ],
        [
         "lot4_surface_carrez",
         "lot4_surface_carrez",
         "99.9256063584946",
         "float64"
        ],
        [
         "lot5_numero",
         "lot5_numero",
         "99.78235387296056",
         "object"
        ],
        [
         "numero_volume",
         "numero_volume",
         "99.77519777117246",
         "object"
        ],
        [
         "lot3_surface_carrez",
         "lot3_surface_carrez",
         "99.67739771340185",
         "float64"
        ],
        [
         "lot4_numero",
         "lot4_numero",
         "99.4760764435665",
         "object"
        ],
        [
         "lot3_numero",
         "lot3_numero",
         "98.31855834366061",
         "object"
        ],
        [
         "lot2_surface_carrez",
         "lot2_surface_carrez",
         "97.10701540239096",
         "float64"
        ],
        [
         "adresse_suffixe",
         "adresse_suffixe",
         "95.62739817929389",
         "object"
        ],
        [
         "code_nature_culture_speciale",
         "code_nature_culture_speciale",
         "95.47507011675255",
         "object"
        ],
        [
         "nature_culture_speciale",
         "nature_culture_speciale",
         "95.47507011675255",
         "object"
        ],
        [
         "lot1_surface_carrez",
         "lot1_surface_carrez",
         "91.23006680891903",
         "float64"
        ],
        [
         "lot2_numero",
         "lot2_numero",
         "90.43875849088249",
         "object"
        ],
        [
         "lot1_numero",
         "lot1_numero",
         "69.44488031233402",
         "object"
        ],
        [
         "surface_reelle_bati",
         "surface_reelle_bati",
         "68.34144296083711",
         "float64"
        ],
        [
         "nombre_pieces_principales",
         "nombre_pieces_principales",
         "42.89374866056038",
         "float64"
        ],
        [
         "code_type_local",
         "code_type_local",
         "42.82651112084308",
         "float64"
        ],
        [
         "type_local",
         "type_local",
         "42.82651112084308",
         "object"
        ],
        [
         "adresse_numero",
         "adresse_numero",
         "38.561176284231415",
         "float64"
        ],
        [
         "surface_terrain",
         "surface_terrain",
         "31.05576727760643",
         "float64"
        ],
        [
         "code_nature_culture",
         "code_nature_culture",
         "31.048089376729624",
         "object"
        ],
        [
         "nature_culture",
         "nature_culture",
         "31.048089376729624",
         "object"
        ],
        [
         "longitude",
         "longitude",
         "1.0225957641095405",
         "float64"
        ],
        [
         "latitude",
         "latitude",
         "1.0225957641095405",
         "float64"
        ],
        [
         "valeur_fonciere",
         "valeur_fonciere",
         "0.9512583744094818",
         "float64"
        ],
        [
         "code_postal",
         "code_postal",
         "0.6369862375490352",
         "float64"
        ],
        [
         "adresse_nom_voie",
         "adresse_nom_voie",
         "0.6343399707419797",
         "object"
        ],
        [
         "adresse_code_voie",
         "adresse_code_voie",
         "0.6270534191817072",
         "object"
        ],
        [
         "date_mutation",
         "date_mutation",
         "0.0007081559061134354",
         "object"
        ],
        [
         "nombre_lots",
         "nombre_lots",
         "0.0007081559061134354",
         "float64"
        ],
        [
         "id_parcelle",
         "id_parcelle",
         "0.0007081559061134354",
         "object"
        ],
        [
         "code_departement",
         "code_departement",
         "0.0007081559061134354",
         "object"
        ],
        [
         "nom_commune",
         "nom_commune",
         "0.0007081559061134354",
         "object"
        ],
        [
         "code_commune",
         "code_commune",
         "0.0007081559061134354",
         "object"
        ],
        [
         "nature_mutation",
         "nature_mutation",
         "0.0007081559061134354",
         "object"
        ],
        [
         "numero_disposition",
         "numero_disposition",
         "0.0007081559061134354",
         "float64"
        ],
        [
         "id_mutation",
         "id_mutation",
         "0.0",
         "object"
        ]
       ],
       "shape": {
        "columns": 3,
        "rows": 40
       }
      },
      "text/html": [
       "<div>\n",
       "<style scoped>\n",
       "    .dataframe tbody tr th:only-of-type {\n",
       "        vertical-align: middle;\n",
       "    }\n",
       "\n",
       "    .dataframe tbody tr th {\n",
       "        vertical-align: top;\n",
       "    }\n",
       "\n",
       "    .dataframe thead th {\n",
       "        text-align: right;\n",
       "    }\n",
       "</style>\n",
       "<table border=\"1\" class=\"dataframe\">\n",
       "  <thead>\n",
       "    <tr style=\"text-align: right;\">\n",
       "      <th></th>\n",
       "      <th>column_name</th>\n",
       "      <th>percent_missing</th>\n",
       "      <th>dtypes</th>\n",
       "    </tr>\n",
       "  </thead>\n",
       "  <tbody>\n",
       "    <tr>\n",
       "      <th>ancien_id_parcelle</th>\n",
       "      <td>ancien_id_parcelle</td>\n",
       "      <td>100.000000</td>\n",
       "      <td>float64</td>\n",
       "    </tr>\n",
       "    <tr>\n",
       "      <th>ancien_code_commune</th>\n",
       "      <td>ancien_code_commune</td>\n",
       "      <td>99.998341</td>\n",
       "      <td>float64</td>\n",
       "    </tr>\n",
       "    <tr>\n",
       "      <th>ancien_nom_commune</th>\n",
       "      <td>ancien_nom_commune</td>\n",
       "      <td>99.998341</td>\n",
       "      <td>object</td>\n",
       "    </tr>\n",
       "    <tr>\n",
       "      <th>lot5_surface_carrez</th>\n",
       "      <td>lot5_surface_carrez</td>\n",
       "      <td>99.976519</td>\n",
       "      <td>float64</td>\n",
       "    </tr>\n",
       "    <tr>\n",
       "      <th>lot4_surface_carrez</th>\n",
       "      <td>lot4_surface_carrez</td>\n",
       "      <td>99.925606</td>\n",
       "      <td>float64</td>\n",
       "    </tr>\n",
       "    <tr>\n",
       "      <th>lot5_numero</th>\n",
       "      <td>lot5_numero</td>\n",
       "      <td>99.782354</td>\n",
       "      <td>object</td>\n",
       "    </tr>\n",
       "    <tr>\n",
       "      <th>numero_volume</th>\n",
       "      <td>numero_volume</td>\n",
       "      <td>99.775198</td>\n",
       "      <td>object</td>\n",
       "    </tr>\n",
       "    <tr>\n",
       "      <th>lot3_surface_carrez</th>\n",
       "      <td>lot3_surface_carrez</td>\n",
       "      <td>99.677398</td>\n",
       "      <td>float64</td>\n",
       "    </tr>\n",
       "    <tr>\n",
       "      <th>lot4_numero</th>\n",
       "      <td>lot4_numero</td>\n",
       "      <td>99.476076</td>\n",
       "      <td>object</td>\n",
       "    </tr>\n",
       "    <tr>\n",
       "      <th>lot3_numero</th>\n",
       "      <td>lot3_numero</td>\n",
       "      <td>98.318558</td>\n",
       "      <td>object</td>\n",
       "    </tr>\n",
       "    <tr>\n",
       "      <th>lot2_surface_carrez</th>\n",
       "      <td>lot2_surface_carrez</td>\n",
       "      <td>97.107015</td>\n",
       "      <td>float64</td>\n",
       "    </tr>\n",
       "    <tr>\n",
       "      <th>adresse_suffixe</th>\n",
       "      <td>adresse_suffixe</td>\n",
       "      <td>95.627398</td>\n",
       "      <td>object</td>\n",
       "    </tr>\n",
       "    <tr>\n",
       "      <th>code_nature_culture_speciale</th>\n",
       "      <td>code_nature_culture_speciale</td>\n",
       "      <td>95.475070</td>\n",
       "      <td>object</td>\n",
       "    </tr>\n",
       "    <tr>\n",
       "      <th>nature_culture_speciale</th>\n",
       "      <td>nature_culture_speciale</td>\n",
       "      <td>95.475070</td>\n",
       "      <td>object</td>\n",
       "    </tr>\n",
       "    <tr>\n",
       "      <th>lot1_surface_carrez</th>\n",
       "      <td>lot1_surface_carrez</td>\n",
       "      <td>91.230067</td>\n",
       "      <td>float64</td>\n",
       "    </tr>\n",
       "    <tr>\n",
       "      <th>lot2_numero</th>\n",
       "      <td>lot2_numero</td>\n",
       "      <td>90.438758</td>\n",
       "      <td>object</td>\n",
       "    </tr>\n",
       "    <tr>\n",
       "      <th>lot1_numero</th>\n",
       "      <td>lot1_numero</td>\n",
       "      <td>69.444880</td>\n",
       "      <td>object</td>\n",
       "    </tr>\n",
       "    <tr>\n",
       "      <th>surface_reelle_bati</th>\n",
       "      <td>surface_reelle_bati</td>\n",
       "      <td>68.341443</td>\n",
       "      <td>float64</td>\n",
       "    </tr>\n",
       "    <tr>\n",
       "      <th>nombre_pieces_principales</th>\n",
       "      <td>nombre_pieces_principales</td>\n",
       "      <td>42.893749</td>\n",
       "      <td>float64</td>\n",
       "    </tr>\n",
       "    <tr>\n",
       "      <th>code_type_local</th>\n",
       "      <td>code_type_local</td>\n",
       "      <td>42.826511</td>\n",
       "      <td>float64</td>\n",
       "    </tr>\n",
       "    <tr>\n",
       "      <th>type_local</th>\n",
       "      <td>type_local</td>\n",
       "      <td>42.826511</td>\n",
       "      <td>object</td>\n",
       "    </tr>\n",
       "    <tr>\n",
       "      <th>adresse_numero</th>\n",
       "      <td>adresse_numero</td>\n",
       "      <td>38.561176</td>\n",
       "      <td>float64</td>\n",
       "    </tr>\n",
       "    <tr>\n",
       "      <th>surface_terrain</th>\n",
       "      <td>surface_terrain</td>\n",
       "      <td>31.055767</td>\n",
       "      <td>float64</td>\n",
       "    </tr>\n",
       "    <tr>\n",
       "      <th>code_nature_culture</th>\n",
       "      <td>code_nature_culture</td>\n",
       "      <td>31.048089</td>\n",
       "      <td>object</td>\n",
       "    </tr>\n",
       "    <tr>\n",
       "      <th>nature_culture</th>\n",
       "      <td>nature_culture</td>\n",
       "      <td>31.048089</td>\n",
       "      <td>object</td>\n",
       "    </tr>\n",
       "    <tr>\n",
       "      <th>longitude</th>\n",
       "      <td>longitude</td>\n",
       "      <td>1.022596</td>\n",
       "      <td>float64</td>\n",
       "    </tr>\n",
       "    <tr>\n",
       "      <th>latitude</th>\n",
       "      <td>latitude</td>\n",
       "      <td>1.022596</td>\n",
       "      <td>float64</td>\n",
       "    </tr>\n",
       "    <tr>\n",
       "      <th>valeur_fonciere</th>\n",
       "      <td>valeur_fonciere</td>\n",
       "      <td>0.951258</td>\n",
       "      <td>float64</td>\n",
       "    </tr>\n",
       "    <tr>\n",
       "      <th>code_postal</th>\n",
       "      <td>code_postal</td>\n",
       "      <td>0.636986</td>\n",
       "      <td>float64</td>\n",
       "    </tr>\n",
       "    <tr>\n",
       "      <th>adresse_nom_voie</th>\n",
       "      <td>adresse_nom_voie</td>\n",
       "      <td>0.634340</td>\n",
       "      <td>object</td>\n",
       "    </tr>\n",
       "    <tr>\n",
       "      <th>adresse_code_voie</th>\n",
       "      <td>adresse_code_voie</td>\n",
       "      <td>0.627053</td>\n",
       "      <td>object</td>\n",
       "    </tr>\n",
       "    <tr>\n",
       "      <th>date_mutation</th>\n",
       "      <td>date_mutation</td>\n",
       "      <td>0.000708</td>\n",
       "      <td>object</td>\n",
       "    </tr>\n",
       "    <tr>\n",
       "      <th>nombre_lots</th>\n",
       "      <td>nombre_lots</td>\n",
       "      <td>0.000708</td>\n",
       "      <td>float64</td>\n",
       "    </tr>\n",
       "    <tr>\n",
       "      <th>id_parcelle</th>\n",
       "      <td>id_parcelle</td>\n",
       "      <td>0.000708</td>\n",
       "      <td>object</td>\n",
       "    </tr>\n",
       "    <tr>\n",
       "      <th>code_departement</th>\n",
       "      <td>code_departement</td>\n",
       "      <td>0.000708</td>\n",
       "      <td>object</td>\n",
       "    </tr>\n",
       "    <tr>\n",
       "      <th>nom_commune</th>\n",
       "      <td>nom_commune</td>\n",
       "      <td>0.000708</td>\n",
       "      <td>object</td>\n",
       "    </tr>\n",
       "    <tr>\n",
       "      <th>code_commune</th>\n",
       "      <td>code_commune</td>\n",
       "      <td>0.000708</td>\n",
       "      <td>object</td>\n",
       "    </tr>\n",
       "    <tr>\n",
       "      <th>nature_mutation</th>\n",
       "      <td>nature_mutation</td>\n",
       "      <td>0.000708</td>\n",
       "      <td>object</td>\n",
       "    </tr>\n",
       "    <tr>\n",
       "      <th>numero_disposition</th>\n",
       "      <td>numero_disposition</td>\n",
       "      <td>0.000708</td>\n",
       "      <td>float64</td>\n",
       "    </tr>\n",
       "    <tr>\n",
       "      <th>id_mutation</th>\n",
       "      <td>id_mutation</td>\n",
       "      <td>0.000000</td>\n",
       "      <td>object</td>\n",
       "    </tr>\n",
       "  </tbody>\n",
       "</table>\n",
       "</div>"
      ],
      "text/plain": [
       "                                               column_name  percent_missing  \\\n",
       "ancien_id_parcelle                      ancien_id_parcelle       100.000000   \n",
       "ancien_code_commune                    ancien_code_commune        99.998341   \n",
       "ancien_nom_commune                      ancien_nom_commune        99.998341   \n",
       "lot5_surface_carrez                    lot5_surface_carrez        99.976519   \n",
       "lot4_surface_carrez                    lot4_surface_carrez        99.925606   \n",
       "lot5_numero                                    lot5_numero        99.782354   \n",
       "numero_volume                                numero_volume        99.775198   \n",
       "lot3_surface_carrez                    lot3_surface_carrez        99.677398   \n",
       "lot4_numero                                    lot4_numero        99.476076   \n",
       "lot3_numero                                    lot3_numero        98.318558   \n",
       "lot2_surface_carrez                    lot2_surface_carrez        97.107015   \n",
       "adresse_suffixe                            adresse_suffixe        95.627398   \n",
       "code_nature_culture_speciale  code_nature_culture_speciale        95.475070   \n",
       "nature_culture_speciale            nature_culture_speciale        95.475070   \n",
       "lot1_surface_carrez                    lot1_surface_carrez        91.230067   \n",
       "lot2_numero                                    lot2_numero        90.438758   \n",
       "lot1_numero                                    lot1_numero        69.444880   \n",
       "surface_reelle_bati                    surface_reelle_bati        68.341443   \n",
       "nombre_pieces_principales        nombre_pieces_principales        42.893749   \n",
       "code_type_local                            code_type_local        42.826511   \n",
       "type_local                                      type_local        42.826511   \n",
       "adresse_numero                              adresse_numero        38.561176   \n",
       "surface_terrain                            surface_terrain        31.055767   \n",
       "code_nature_culture                    code_nature_culture        31.048089   \n",
       "nature_culture                              nature_culture        31.048089   \n",
       "longitude                                        longitude         1.022596   \n",
       "latitude                                          latitude         1.022596   \n",
       "valeur_fonciere                            valeur_fonciere         0.951258   \n",
       "code_postal                                    code_postal         0.636986   \n",
       "adresse_nom_voie                          adresse_nom_voie         0.634340   \n",
       "adresse_code_voie                        adresse_code_voie         0.627053   \n",
       "date_mutation                                date_mutation         0.000708   \n",
       "nombre_lots                                    nombre_lots         0.000708   \n",
       "id_parcelle                                    id_parcelle         0.000708   \n",
       "code_departement                          code_departement         0.000708   \n",
       "nom_commune                                    nom_commune         0.000708   \n",
       "code_commune                                  code_commune         0.000708   \n",
       "nature_mutation                            nature_mutation         0.000708   \n",
       "numero_disposition                      numero_disposition         0.000708   \n",
       "id_mutation                                    id_mutation         0.000000   \n",
       "\n",
       "                               dtypes  \n",
       "ancien_id_parcelle            float64  \n",
       "ancien_code_commune           float64  \n",
       "ancien_nom_commune             object  \n",
       "lot5_surface_carrez           float64  \n",
       "lot4_surface_carrez           float64  \n",
       "lot5_numero                    object  \n",
       "numero_volume                  object  \n",
       "lot3_surface_carrez           float64  \n",
       "lot4_numero                    object  \n",
       "lot3_numero                    object  \n",
       "lot2_surface_carrez           float64  \n",
       "adresse_suffixe                object  \n",
       "code_nature_culture_speciale   object  \n",
       "nature_culture_speciale        object  \n",
       "lot1_surface_carrez           float64  \n",
       "lot2_numero                    object  \n",
       "lot1_numero                    object  \n",
       "surface_reelle_bati           float64  \n",
       "nombre_pieces_principales     float64  \n",
       "code_type_local               float64  \n",
       "type_local                     object  \n",
       "adresse_numero                float64  \n",
       "surface_terrain               float64  \n",
       "code_nature_culture            object  \n",
       "nature_culture                 object  \n",
       "longitude                     float64  \n",
       "latitude                      float64  \n",
       "valeur_fonciere               float64  \n",
       "code_postal                   float64  \n",
       "adresse_nom_voie               object  \n",
       "adresse_code_voie              object  \n",
       "date_mutation                  object  \n",
       "nombre_lots                   float64  \n",
       "id_parcelle                    object  \n",
       "code_departement               object  \n",
       "nom_commune                    object  \n",
       "code_commune                   object  \n",
       "nature_mutation                object  \n",
       "numero_disposition            float64  \n",
       "id_mutation                    object  "
      ]
     },
     "metadata": {},
     "output_type": "display_data"
    }
   ],
   "source": [
    "missing_data_percentage = df_dvf.isna().sum()*100/len(df_dvf)\n",
    "missing_value_percentage = pd.DataFrame({'column_name': df_dvf.columns,\n",
    "                                 'percent_missing': missing_data_percentage,'dtypes':df_dvf.dtypes}).sort_values(by='percent_missing', ascending=False)\n",
    "display(missing_value_percentage)"
   ]
  },
  {
   "cell_type": "markdown",
   "id": "1b8ae786",
   "metadata": {},
   "source": [
    "### Visualisation des NAN"
   ]
  },
  {
   "cell_type": "code",
   "execution_count": 4,
   "id": "f99b6f8e",
   "metadata": {},
   "outputs": [
    {
     "data": {
      "image/png": "[encoded data removed]",
      "text/plain": [
       "<Figure size 800x1000 with 1 Axes>"
      ]
     },
     "metadata": {},
     "output_type": "display_data"
    }
   ],
   "source": [
    "plt.figure(figsize=(8, 10)) \n",
    "\n",
    "sns.barplot(y = missing_value_percentage.column_name, \n",
    "            x = missing_value_percentage.percent_missing, \n",
    "            hue = missing_value_percentage.column_name, \n",
    "            order = missing_value_percentage.column_name)\n",
    "\n",
    "# Add a vertical line at x=50 (adjust as needed)\n",
    "plt.axvline(x=70, color='red', linestyle='--', label='Threshold (70%)')\n",
    "\n",
    "plt.title('Répartition des valeurs manquantes dans le dataset', fontsize=10)\n",
    "plt.xticks(fontsize=8)  \n",
    "plt.yticks(fontsize=8)  \n",
    "plt.ylabel('Features');"
   ]
  },
  {
   "cell_type": "markdown",
   "id": "68aad764",
   "metadata": {},
   "source": [
    "### Seuil des valeurs manquantes supérieur à 70 %\n",
    "\n",
    "> Dans notre dataset, on constate une grande diversité des variables. Cette grande diversité nous permet de faire le choix d'éliminer certaines variables qui représentent peu d'enjeux pour la prédiction de notre modèle, par exemple l'ancien code code commune, ou le numéro de volume. \n",
    "\n",
    "> Arbitrairement, le seuil de valeurs manquantes que nous choisirons sera de 70 % de valeurs manquantes dans la variable."
   ]
  },
  {
   "cell_type": "code",
   "execution_count": 5,
   "id": "6b383e15",
   "metadata": {},
   "outputs": [
    {
     "name": "stdout",
     "output_type": "stream",
     "text": [
      "Index(['id_mutation', 'date_mutation', 'numero_disposition', 'nature_mutation',\n",
      "       'valeur_fonciere', 'adresse_numero', 'adresse_nom_voie',\n",
      "       'adresse_code_voie', 'code_postal', 'code_commune', 'nom_commune',\n",
      "       'code_departement', 'id_parcelle', 'lot1_numero', 'nombre_lots',\n",
      "       'code_type_local', 'type_local', 'surface_reelle_bati',\n",
      "       'nombre_pieces_principales', 'code_nature_culture', 'nature_culture',\n",
      "       'surface_terrain', 'longitude', 'latitude'],\n",
      "      dtype='object')\n"
     ]
    }
   ],
   "source": [
    "missing_values = df_dvf.isnull().mean()\n",
    "variables_to_keep = missing_values[missing_values <= 0.70].index\n",
    "\n",
    "print(variables_to_keep)"
   ]
  },
  {
   "cell_type": "markdown",
   "id": "73ecaf50",
   "metadata": {},
   "source": [
    "### Mise à jour du dataset\n",
    "> cast des variables catégorielles encodée en float"
   ]
  },
  {
   "cell_type": "code",
   "execution_count": 6,
   "id": "076d6f42",
   "metadata": {},
   "outputs": [
    {
     "name": "stdout",
     "output_type": "stream",
     "text": [
      "<class 'pandas.core.frame.DataFrame'>\n",
      "RangeIndex: 5366050 entries, 0 to 5366049\n",
      "Data columns (total 24 columns):\n",
      " #   Column                     Non-Null Count    Dtype         \n",
      "---  ------                     --------------    -----         \n",
      " 0   id_mutation                5366050 non-null  object        \n",
      " 1   date_mutation              5366012 non-null  datetime64[ns]\n",
      " 2   numero_disposition         5366050 non-null  object        \n",
      " 3   nature_mutation            5366012 non-null  object        \n",
      " 4   valeur_fonciere            5315005 non-null  float64       \n",
      " 5   adresse_numero             5366050 non-null  object        \n",
      " 6   adresse_nom_voie           5332011 non-null  object        \n",
      " 7   adresse_code_voie          5332402 non-null  object        \n",
      " 8   code_postal                5366050 non-null  object        \n",
      " 9   code_commune               5366012 non-null  object        \n",
      " 10  nom_commune                5366012 non-null  object        \n",
      " 11  code_departement           5366050 non-null  object        \n",
      " 12  id_parcelle                5366012 non-null  object        \n",
      " 13  lot1_numero                1639603 non-null  object        \n",
      " 14  nombre_lots                5366012 non-null  float64       \n",
      " 15  code_type_local            3067958 non-null  float64       \n",
      " 16  type_local                 3067958 non-null  object        \n",
      " 17  surface_reelle_bati        1698814 non-null  float64       \n",
      " 18  nombre_pieces_principales  3064350 non-null  float64       \n",
      " 19  code_nature_culture        3699994 non-null  object        \n",
      " 20  nature_culture             3699994 non-null  object        \n",
      " 21  surface_terrain            3699582 non-null  float64       \n",
      " 22  longitude                  5311177 non-null  float64       \n",
      " 23  latitude                   5311177 non-null  float64       \n",
      "dtypes: datetime64[ns](1), float64(8), object(15)\n",
      "memory usage: 982.6+ MB\n"
     ]
    }
   ],
   "source": [
    "# Convert the date columns to datetime format\n",
    "df_dvf[\"date_mutation\"] = pd.to_datetime(df_dvf[\"date_mutation\"], format='%Y-%m-%d')\n",
    "# Convert the \"code_postal\" column to \"str\" format\n",
    "#Safely convert 'code_postal' to strings\n",
    "df_dvf[\"code_postal\"] = df_dvf[\"code_postal\"].astype('str').str.replace('.0', '', regex=False)\n",
    "# Convert the \"code_departement\" column to \"str\" format\n",
    "df_dvf[\"code_departement\"] = df_dvf[\"code_departement\"].astype('str').str.replace('.0', '', regex=False)\n",
    "\n",
    "# Convert the \"adresse_numero\" column to \"str\" format\n",
    "df_dvf[\"adresse_numero\"] = df_dvf[\"adresse_numero\"].astype(str)\n",
    "\n",
    "# Convert the \"numero_disposition\" column to \"str\" format\n",
    "df_dvf[\"numero_disposition\"] = df_dvf[\"numero_disposition\"].astype(str)\n",
    "\n",
    "df_dvf = df_dvf[variables_to_keep]\n",
    "\n",
    "# Save the cleaned data\n",
    "folder_path_clean = '../data/processed/DVF'\n",
    "output_file_clean = os.path.join(folder_path_clean, 'merged_dvf_data_clean.csv')\n",
    "df_dvf.to_csv(output_file_clean, index=False)\n",
    "\n",
    "df_dvf.info(show_counts=True)\n"
   ]
  },
  {
   "cell_type": "code",
   "execution_count": 7,
   "id": "c4cbeefa",
   "metadata": {},
   "outputs": [
    {
     "data": {
      "image/png": "[encoded data removed]",
      "text/plain": [
       "<Figure size 800x1000 with 1 Axes>"
      ]
     },
     "metadata": {},
     "output_type": "display_data"
    }
   ],
   "source": [
    "missing_data_percentage = df_dvf.isna().sum()*100/len(df_dvf)\n",
    "missing_value_percentage = pd.DataFrame({'column_name': df_dvf.columns,\n",
    "                                         'percent_missing': missing_data_percentage\n",
    "                                         }).sort_values(by='percent_missing', ascending=False)\n",
    "\n",
    "plt.figure(figsize=(8, 10)) \n",
    "\n",
    "sns.barplot(y = missing_value_percentage.column_name, \n",
    "            x = missing_value_percentage.percent_missing, \n",
    "            hue = missing_value_percentage.column_name, \n",
    "            order = missing_value_percentage.column_name)\n",
    "\n",
    "# Add a vertical line at x=50 (adjust as needed)\n",
    "plt.axvline(x=70, color='red', linestyle='--', label='Threshold (70%)')\n",
    "\n",
    "plt.title('Répartition des valeurs manquantes dans le dataset', fontsize=10)\n",
    "plt.xticks(fontsize=8)  \n",
    "plt.yticks(fontsize=8)  \n",
    "plt.ylabel('Features');"
   ]
  },
  {
   "cell_type": "markdown",
   "id": "e31eb05f",
   "metadata": {},
   "source": [
    "## Dataviz"
   ]
  },
  {
   "cell_type": "markdown",
   "id": "de0bc8c4",
   "metadata": {},
   "source": [
    "### Modalités des variables catégorielles ( moins de 10 modalités )"
   ]
  },
  {
   "cell_type": "code",
   "execution_count": 8,
   "id": "7722a711",
   "metadata": {},
   "outputs": [
    {
     "name": "stdout",
     "output_type": "stream",
     "text": [
      "Column: nature_mutation\n",
      "Unique Values: ['Vente' 'Echange' \"Vente en l'état futur d'achèvement\"\n",
      " 'Vente terrain à bâtir' 'Adjudication' 'Expropriation']\n",
      "--------------------------------------------------\n",
      "Column: code_type_local\n",
      "Unique Values: [3. 2. 1. 4.]\n",
      "--------------------------------------------------\n",
      "Column: type_local\n",
      "Unique Values: ['Dépendance' 'Appartement' 'Maison'\n",
      " 'Local industriel. commercial ou assimilé']\n",
      "--------------------------------------------------\n"
     ]
    }
   ],
   "source": [
    "# Combine object and numerical columns\n",
    "columns_to_check = df_dvf.select_dtypes(include=['object', 'int64', 'float64']).columns\n",
    "\n",
    "columns_checked = []\n",
    "\n",
    "# Iterate through each column and filter unique values with less than 10, excluding NaN\n",
    "for col in columns_to_check:\n",
    "    unique_values = df_dvf[col].dropna().unique()  # Exclude NaN values\n",
    "    if len(unique_values) < 10:\n",
    "        print(f\"Column: {col}\")\n",
    "        print(f\"Unique Values: {unique_values}\")\n",
    "        print(\"-\" * 50)\n",
    "        columns_checked.append(col)"
   ]
  },
  {
   "cell_type": "code",
   "execution_count": 9,
   "id": "70f2797b",
   "metadata": {},
   "outputs": [
    {
     "data": {
      "image/png": "[encoded data removed]",
      "text/plain": [
       "<Figure size 800x400 with 1 Axes>"
      ]
     },
     "metadata": {},
     "output_type": "display_data"
    },
    {
     "data": {
      "image/png": "[encoded data removed]",
      "text/plain": [
       "<Figure size 800x400 with 1 Axes>"
      ]
     },
     "metadata": {},
     "output_type": "display_data"
    },
    {
     "data": {
      "image/png": "[encoded data removed]",
      "text/plain": [
       "<Figure size 800x400 with 1 Axes>"
      ]
     },
     "metadata": {},
     "output_type": "display_data"
    }
   ],
   "source": [
    "for var_to_viz in columns_checked:\n",
    "    plt.figure(figsize=(8, 4))\n",
    "    sns.countplot(data=df_dvf, x=var_to_viz)\n",
    "    plt.title(f'{var_to_viz}')\n",
    "    plt.xticks(rotation=45, fontsize=8)\n",
    "    plt.yticks(fontsize=8)\n",
    "    plt.tight_layout()\n",
    "    plt.show()"
   ]
  },
  {
   "cell_type": "markdown",
   "id": "4146fc94",
   "metadata": {},
   "source": [
    "\n",
    "*   Il semblerait que la variable `code_type_local` décrive la même chose que la variable `type_local`"
   ]
  },
  {
   "cell_type": "markdown",
   "id": "ea634e14",
   "metadata": {},
   "source": [
    "### Modalités des autres variables ( plus de 10 modalités )"
   ]
  },
  {
   "cell_type": "code",
   "execution_count": 10,
   "id": "9efd485f",
   "metadata": {},
   "outputs": [
    {
     "name": "stdout",
     "output_type": "stream",
     "text": [
      "Column: id_mutation\n",
      "Unique Values: ['2023-1' '2023-2' '2023-3' ... '2024-556070' '2024-556071' '2024-556072']\n",
      "--------------------------------------------------\n",
      "Column: numero_disposition\n",
      "Unique Values: ['1.0' '2.0' '3.0' '4.0' '5.0' '6.0' '7.0' '8.0' '9.0' '10.0' '11.0'\n",
      " '12.0' '13.0' '14.0' '15.0' '16.0' '17.0' '18.0' '19.0' '20.0' '21.0'\n",
      " '22.0' '23.0' '24.0' '25.0' '26.0' '27.0' '28.0' '29.0' '30.0' '31.0'\n",
      " '32.0' '33.0' '34.0' '35.0' '36.0' '37.0' '38.0' '39.0' '40.0' '41.0'\n",
      " '42.0' 'nan' '43.0' '44.0' '45.0' '46.0' '47.0' '48.0' '49.0' '50.0'\n",
      " '51.0' '52.0' '53.0' '54.0' '55.0' '56.0' '57.0' '58.0' '59.0' '60.0'\n",
      " '61.0' '62.0' '63.0' '64.0' '65.0' '66.0' '67.0' '68.0' '69.0' '70.0'\n",
      " '71.0' '72.0' '73.0' '74.0' '75.0' '76.0' '77.0' '78.0' '79.0' '80.0'\n",
      " '81.0' '82.0' '83.0' '84.0' '85.0' '86.0' '87.0' '88.0' '89.0' '90.0'\n",
      " '91.0' '92.0' '93.0' '94.0' '95.0' '96.0' '97.0' '98.0' '99.0' '100.0'\n",
      " '101.0' '102.0' '103.0' '104.0' '105.0' '106.0' '107.0' '108.0' '109.0'\n",
      " '110.0' '111.0' '112.0' '113.0' '114.0' '115.0' '116.0' '117.0' '118.0'\n",
      " '119.0' '120.0' '121.0' '122.0' '123.0' '124.0' '125.0' '126.0' '127.0'\n",
      " '128.0' '129.0' '130.0' '131.0' '132.0' '133.0' '134.0' '135.0' '136.0'\n",
      " '137.0' '138.0' '139.0' '140.0' '141.0' '142.0' '143.0' '144.0' '145.0'\n",
      " '146.0' '147.0' '148.0' '149.0' '150.0' '151.0' '152.0' '153.0' '154.0'\n",
      " '155.0' '156.0' '157.0' '158.0' '159.0' '160.0' '161.0' '162.0' '163.0'\n",
      " '164.0' '165.0' '166.0' '167.0' '168.0' '169.0' '170.0' '171.0' '172.0'\n",
      " '173.0' '174.0' '175.0' '176.0' '177.0' '178.0' '179.0' '180.0' '181.0'\n",
      " '182.0' '183.0' '184.0' '185.0' '186.0' '187.0' '188.0' '189.0' '190.0'\n",
      " '191.0' '192.0' '193.0' '194.0']\n",
      "--------------------------------------------------\n",
      "Column: adresse_numero\n",
      "Unique Values: ['184.0' '159.0' '2914.0' ... '8481.0' '9849.0' '6823.0']\n",
      "--------------------------------------------------\n",
      "Column: adresse_nom_voie\n",
      "Unique Values: ['ALL DES HETRES' 'RTE DE PONCIN' \"CHE DE L'AUBEPIN\" ... 'PAS SALARNIER'\n",
      " 'AV DE LA SIBELLE' 'VLA HONORE GABRIEL RIQUETI']\n",
      "--------------------------------------------------\n",
      "Column: adresse_code_voie\n",
      "Unique Values: ['0124' '0107' '0040' ... '7477' '9868' '7691']\n",
      "--------------------------------------------------\n",
      "Column: code_postal\n",
      "Unique Values: ['1630' '1450' '1800' ... '75012' '75007' '75005']\n",
      "--------------------------------------------------\n",
      "Column: code_commune\n",
      "Unique Values: ['01354' '01404' '01361' ... '89184' '90060' '95214']\n",
      "--------------------------------------------------\n",
      "Column: nom_commune\n",
      "Unique Values: ['Saint-Genis-Pouilly' 'Serrières-sur-Ain' 'Saint-Jean-de-Niost' ...\n",
      " 'Saint-André-en-Terre-Plaine' 'Fulvy' 'Épinay-Champlâtreux']\n",
      "--------------------------------------------------\n",
      "Column: code_departement\n",
      "Unique Values: ['01' '02' '03' '04' '05' '06' '07' '08' '09' '10' '11' '12' '13' '14'\n",
      " '15' '16' '17' '18' '19' '21' '22' '23' '24' '25' '26' '27' 'nan' '28'\n",
      " '29' '2A' '2B' '30' '31' '32' '33' '34' '35' '36' '37' '38' '39' '40'\n",
      " '41' '42' '43' '44' '45' '46' '47' '48' '49' '50' '51' '52' '53' '54'\n",
      " '55' '56' '58' '59' '60' '61' '62' '63' '64' '65' '66' '69' '70' '71'\n",
      " '72' '73' '74' '76' '77' '78' '79' '80' '81' '82' '83' '84' '85' '86'\n",
      " '87' '88' '89' '90' '91' '92' '93' '94' '95' '971' '972' '973' '974' '75']\n",
      "--------------------------------------------------\n",
      "Column: id_parcelle\n",
      "Unique Values: ['01354000BD0334' '01354000BD0336' '014040000D2317' ... '75116000DN0037'\n",
      " '75105000BQ0069' '75114000CI0130']\n",
      "--------------------------------------------------\n",
      "Column: lot1_numero\n",
      "Unique Values: ['29' '22' '8' ... '20813' '20199' '20244']\n",
      "--------------------------------------------------\n",
      "Column: code_nature_culture\n",
      "Unique Values: ['S' 'T' 'BT' 'P' 'AG' 'J' 'L' 'VI' 'AB' 'BS' 'PA' 'BM' 'BR' 'BP' 'BO'\n",
      " 'VE' 'B' 'E' 'BF' 'CA' 'CH' 'PP' 'PC' 'TP' 'LB' 'PH' 'PE']\n",
      "--------------------------------------------------\n",
      "Column: nature_culture\n",
      "Unique Values: ['sols' 'terres' 'taillis simples' 'prés' \"terrains d'agrément\" 'jardins'\n",
      " 'landes' 'vignes' 'terrains a bâtir' 'taillis sous futaie' 'pâtures'\n",
      " 'futaies mixtes' 'futaies résineuses' 'peupleraies' 'oseraies' 'vergers'\n",
      " 'bois' 'eaux' 'futaies feuillues' 'carrières' 'chemin de fer'\n",
      " 'prés plantes' 'pacages' 'terres plantées' 'landes boisées' 'herbages'\n",
      " \"prés d'embouche\"]\n",
      "--------------------------------------------------\n"
     ]
    }
   ],
   "source": [
    "columns_investigated = columns_checked\n",
    "df_dvf_remaining = df_dvf.drop(columns_investigated,axis=1)\n",
    "\n",
    "columns_to_check = df_dvf_remaining.select_dtypes(include=['object']).columns\n",
    "\n",
    "# Iterate through each column and filter unique values with less than 10, excluding NaN\n",
    "for col in columns_to_check:\n",
    "    unique_values = df_dvf_remaining[col].dropna().unique()  # Exclude NaN values\n",
    "    if len(unique_values) > 10:\n",
    "        print(f\"Column: {col}\")\n",
    "        print(f\"Unique Values: {unique_values}\")\n",
    "        print(\"-\" * 50)\n",
    "        columns_checked.append(col)"
   ]
  },
  {
   "cell_type": "markdown",
   "id": "2c667d22",
   "metadata": {},
   "source": [
    "> Un même Id de mutation peut porter sur l'acquision d'un bien comprenant plusieurs lot (maison, terrain, dépendance, etc) .\n",
    "> Un même Id de mutation peut donc porter sur une même valeur foncière qui qui sera déclinée sur chaque lot compris dans le bien (maison, terrain, dépendance, etc)\n",
    ">\n",
    "> Nous les regroupons afin d'éviter les comptages inutiles sur la valeur foncière, et considérons alors un bien dans son ensemble, donc 1 seul enregistremnt / Id de mutation\n",
    "> Nous obtenons ainsi un bien ('Dépendance', 'Appartement', 'Maison', 'Local industriel. commercial ou assimilé') avec une valeur financière qui inclut les sols / terrains / jardins  \n",
    ">\n",
    "> Attention : si l'on retient l'hypothèse d'une variable cible qui serait le prix au m², alors il faudra prendre en considération et détailler tous les éléments qui chiffrent la valeur foncière totale"
   ]
  },
  {
   "cell_type": "code",
   "execution_count": 11,
   "id": "c951daf2",
   "metadata": {},
   "outputs": [
    {
     "data": {
      "application/vnd.microsoft.datawrangler.viewer.v0+json": {
       "columns": [
        {
         "name": "index",
         "rawType": "int64",
         "type": "integer"
        },
        {
         "name": "id_mutation",
         "rawType": "object",
         "type": "string"
        },
        {
         "name": "date_mutation",
         "rawType": "datetime64[ns]",
         "type": "datetime"
        },
        {
         "name": "numero_disposition",
         "rawType": "object",
         "type": "string"
        },
        {
         "name": "nature_mutation",
         "rawType": "object",
         "type": "string"
        },
        {
         "name": "valeur_fonciere",
         "rawType": "float64",
         "type": "float"
        },
        {
         "name": "adresse_numero",
         "rawType": "object",
         "type": "string"
        },
        {
         "name": "adresse_nom_voie",
         "rawType": "object",
         "type": "string"
        },
        {
         "name": "adresse_code_voie",
         "rawType": "object",
         "type": "string"
        },
        {
         "name": "code_postal",
         "rawType": "object",
         "type": "string"
        },
        {
         "name": "code_commune",
         "rawType": "object",
         "type": "string"
        },
        {
         "name": "nom_commune",
         "rawType": "object",
         "type": "string"
        },
        {
         "name": "code_departement",
         "rawType": "object",
         "type": "string"
        },
        {
         "name": "id_parcelle",
         "rawType": "object",
         "type": "string"
        },
        {
         "name": "lot1_numero",
         "rawType": "object",
         "type": "unknown"
        },
        {
         "name": "nombre_lots",
         "rawType": "float64",
         "type": "float"
        },
        {
         "name": "code_type_local",
         "rawType": "float64",
         "type": "float"
        },
        {
         "name": "type_local",
         "rawType": "object",
         "type": "string"
        },
        {
         "name": "surface_reelle_bati",
         "rawType": "float64",
         "type": "float"
        },
        {
         "name": "nombre_pieces_principales",
         "rawType": "float64",
         "type": "float"
        },
        {
         "name": "code_nature_culture",
         "rawType": "object",
         "type": "unknown"
        },
        {
         "name": "nature_culture",
         "rawType": "object",
         "type": "unknown"
        },
        {
         "name": "surface_terrain",
         "rawType": "float64",
         "type": "float"
        },
        {
         "name": "longitude",
         "rawType": "float64",
         "type": "float"
        },
        {
         "name": "latitude",
         "rawType": "float64",
         "type": "float"
        }
       ],
       "conversionMethod": "pd.DataFrame",
       "ref": "2635468c-461d-4bbb-82eb-23782a2f4438",
       "rows": [
        [
         "0",
         "2023-1",
         "2023-01-05 00:00:00",
         "1.0",
         "Vente",
         "1070000.0",
         "184.0",
         "ALL DES HETRES",
         "0124",
         "1630",
         "01354",
         "Saint-Genis-Pouilly",
         "01",
         "01354000BD0334",
         "29",
         "1.0",
         "3.0",
         "Dépendance",
         null,
         "0.0",
         null,
         null,
         null,
         "6.019949",
         "46.247458"
        ],
        [
         "3",
         "2023-2",
         "2023-01-03 00:00:00",
         "1.0",
         "Vente",
         "152200.0",
         "2914.0",
         "RTE DE PONCIN",
         "0107",
         "1450",
         "01404",
         "Serrières-sur-Ain",
         "01",
         "014040000D2317",
         null,
         "0.0",
         "1.0",
         "Maison",
         "64.0",
         "3.0",
         "S",
         "sols",
         "988.0",
         "5.438273",
         "46.129859"
        ],
        [
         "4",
         "2023-3",
         "2023-01-05 00:00:00",
         "1.0",
         "Vente",
         "269000.0",
         "427.0",
         "CHE DE L'AUBEPIN",
         "0040",
         "1800",
         "01361",
         "Saint-Jean-de-Niost",
         "01",
         "013610000B2405",
         null,
         "0.0",
         "1.0",
         "Maison",
         "73.0",
         "3.0",
         "S",
         "sols",
         "835.0",
         "5.225844",
         "45.853513"
        ],
        [
         "7",
         "2023-4",
         "2023-01-03 00:00:00",
         "1.0",
         "Vente",
         "770000.0",
         "159.0",
         "RUE DU PARC DE VILLARD",
         "0151",
         "1210",
         "01281",
         "Ornex",
         "01",
         "01281000AD0041",
         null,
         "0.0",
         "1.0",
         "Maison",
         "136.0",
         "7.0",
         "S",
         "sols",
         "921.0",
         "6.083444",
         "46.279993"
        ],
        [
         "14",
         "2023-8",
         "2023-01-06 00:00:00",
         "3.0",
         "Vente",
         "85520.0",
         "41.0",
         "CHE DE LA CROIX DE VACAGNOLE",
         "0380",
         "1340",
         "01024",
         "Attignat",
         "01",
         "01024000AI0127",
         null,
         "0.0",
         "3.0",
         "Dépendance",
         null,
         "0.0",
         null,
         null,
         null,
         "5.171364",
         "46.269235"
        ]
       ],
       "shape": {
        "columns": 24,
        "rows": 5
       }
      },
      "text/html": [
       "<div>\n",
       "<style scoped>\n",
       "    .dataframe tbody tr th:only-of-type {\n",
       "        vertical-align: middle;\n",
       "    }\n",
       "\n",
       "    .dataframe tbody tr th {\n",
       "        vertical-align: top;\n",
       "    }\n",
       "\n",
       "    .dataframe thead th {\n",
       "        text-align: right;\n",
       "    }\n",
       "</style>\n",
       "<table border=\"1\" class=\"dataframe\">\n",
       "  <thead>\n",
       "    <tr style=\"text-align: right;\">\n",
       "      <th></th>\n",
       "      <th>id_mutation</th>\n",
       "      <th>date_mutation</th>\n",
       "      <th>numero_disposition</th>\n",
       "      <th>nature_mutation</th>\n",
       "      <th>valeur_fonciere</th>\n",
       "      <th>adresse_numero</th>\n",
       "      <th>adresse_nom_voie</th>\n",
       "      <th>adresse_code_voie</th>\n",
       "      <th>code_postal</th>\n",
       "      <th>code_commune</th>\n",
       "      <th>...</th>\n",
       "      <th>nombre_lots</th>\n",
       "      <th>code_type_local</th>\n",
       "      <th>type_local</th>\n",
       "      <th>surface_reelle_bati</th>\n",
       "      <th>nombre_pieces_principales</th>\n",
       "      <th>code_nature_culture</th>\n",
       "      <th>nature_culture</th>\n",
       "      <th>surface_terrain</th>\n",
       "      <th>longitude</th>\n",
       "      <th>latitude</th>\n",
       "    </tr>\n",
       "  </thead>\n",
       "  <tbody>\n",
       "    <tr>\n",
       "      <th>0</th>\n",
       "      <td>2023-1</td>\n",
       "      <td>2023-01-05</td>\n",
       "      <td>1.0</td>\n",
       "      <td>Vente</td>\n",
       "      <td>1070000.0</td>\n",
       "      <td>184.0</td>\n",
       "      <td>ALL DES HETRES</td>\n",
       "      <td>0124</td>\n",
       "      <td>1630</td>\n",
       "      <td>01354</td>\n",
       "      <td>...</td>\n",
       "      <td>1.0</td>\n",
       "      <td>3.0</td>\n",
       "      <td>Dépendance</td>\n",
       "      <td>NaN</td>\n",
       "      <td>0.0</td>\n",
       "      <td>NaN</td>\n",
       "      <td>NaN</td>\n",
       "      <td>NaN</td>\n",
       "      <td>6.019949</td>\n",
       "      <td>46.247458</td>\n",
       "    </tr>\n",
       "    <tr>\n",
       "      <th>3</th>\n",
       "      <td>2023-2</td>\n",
       "      <td>2023-01-03</td>\n",
       "      <td>1.0</td>\n",
       "      <td>Vente</td>\n",
       "      <td>152200.0</td>\n",
       "      <td>2914.0</td>\n",
       "      <td>RTE DE PONCIN</td>\n",
       "      <td>0107</td>\n",
       "      <td>1450</td>\n",
       "      <td>01404</td>\n",
       "      <td>...</td>\n",
       "      <td>0.0</td>\n",
       "      <td>1.0</td>\n",
       "      <td>Maison</td>\n",
       "      <td>64.0</td>\n",
       "      <td>3.0</td>\n",
       "      <td>S</td>\n",
       "      <td>sols</td>\n",
       "      <td>988.0</td>\n",
       "      <td>5.438273</td>\n",
       "      <td>46.129859</td>\n",
       "    </tr>\n",
       "    <tr>\n",
       "      <th>4</th>\n",
       "      <td>2023-3</td>\n",
       "      <td>2023-01-05</td>\n",
       "      <td>1.0</td>\n",
       "      <td>Vente</td>\n",
       "      <td>269000.0</td>\n",
       "      <td>427.0</td>\n",
       "      <td>CHE DE L'AUBEPIN</td>\n",
       "      <td>0040</td>\n",
       "      <td>1800</td>\n",
       "      <td>01361</td>\n",
       "      <td>...</td>\n",
       "      <td>0.0</td>\n",
       "      <td>1.0</td>\n",
       "      <td>Maison</td>\n",
       "      <td>73.0</td>\n",
       "      <td>3.0</td>\n",
       "      <td>S</td>\n",
       "      <td>sols</td>\n",
       "      <td>835.0</td>\n",
       "      <td>5.225844</td>\n",
       "      <td>45.853513</td>\n",
       "    </tr>\n",
       "    <tr>\n",
       "      <th>7</th>\n",
       "      <td>2023-4</td>\n",
       "      <td>2023-01-03</td>\n",
       "      <td>1.0</td>\n",
       "      <td>Vente</td>\n",
       "      <td>770000.0</td>\n",
       "      <td>159.0</td>\n",
       "      <td>RUE DU PARC DE VILLARD</td>\n",
       "      <td>0151</td>\n",
       "      <td>1210</td>\n",
       "      <td>01281</td>\n",
       "      <td>...</td>\n",
       "      <td>0.0</td>\n",
       "      <td>1.0</td>\n",
       "      <td>Maison</td>\n",
       "      <td>136.0</td>\n",
       "      <td>7.0</td>\n",
       "      <td>S</td>\n",
       "      <td>sols</td>\n",
       "      <td>921.0</td>\n",
       "      <td>6.083444</td>\n",
       "      <td>46.279993</td>\n",
       "    </tr>\n",
       "    <tr>\n",
       "      <th>14</th>\n",
       "      <td>2023-8</td>\n",
       "      <td>2023-01-06</td>\n",
       "      <td>3.0</td>\n",
       "      <td>Vente</td>\n",
       "      <td>85520.0</td>\n",
       "      <td>41.0</td>\n",
       "      <td>CHE DE LA CROIX DE VACAGNOLE</td>\n",
       "      <td>0380</td>\n",
       "      <td>1340</td>\n",
       "      <td>01024</td>\n",
       "      <td>...</td>\n",
       "      <td>0.0</td>\n",
       "      <td>3.0</td>\n",
       "      <td>Dépendance</td>\n",
       "      <td>NaN</td>\n",
       "      <td>0.0</td>\n",
       "      <td>NaN</td>\n",
       "      <td>NaN</td>\n",
       "      <td>NaN</td>\n",
       "      <td>5.171364</td>\n",
       "      <td>46.269235</td>\n",
       "    </tr>\n",
       "  </tbody>\n",
       "</table>\n",
       "<p>5 rows × 24 columns</p>\n",
       "</div>"
      ],
      "text/plain": [
       "   id_mutation date_mutation numero_disposition nature_mutation  \\\n",
       "0       2023-1    2023-01-05                1.0           Vente   \n",
       "3       2023-2    2023-01-03                1.0           Vente   \n",
       "4       2023-3    2023-01-05                1.0           Vente   \n",
       "7       2023-4    2023-01-03                1.0           Vente   \n",
       "14      2023-8    2023-01-06                3.0           Vente   \n",
       "\n",
       "    valeur_fonciere adresse_numero              adresse_nom_voie  \\\n",
       "0         1070000.0          184.0                ALL DES HETRES   \n",
       "3          152200.0         2914.0                 RTE DE PONCIN   \n",
       "4          269000.0          427.0              CHE DE L'AUBEPIN   \n",
       "7          770000.0          159.0        RUE DU PARC DE VILLARD   \n",
       "14          85520.0           41.0  CHE DE LA CROIX DE VACAGNOLE   \n",
       "\n",
       "   adresse_code_voie code_postal code_commune  ... nombre_lots  \\\n",
       "0               0124        1630        01354  ...         1.0   \n",
       "3               0107        1450        01404  ...         0.0   \n",
       "4               0040        1800        01361  ...         0.0   \n",
       "7               0151        1210        01281  ...         0.0   \n",
       "14              0380        1340        01024  ...         0.0   \n",
       "\n",
       "   code_type_local  type_local surface_reelle_bati  nombre_pieces_principales  \\\n",
       "0              3.0  Dépendance                 NaN                        0.0   \n",
       "3              1.0      Maison                64.0                        3.0   \n",
       "4              1.0      Maison                73.0                        3.0   \n",
       "7              1.0      Maison               136.0                        7.0   \n",
       "14             3.0  Dépendance                 NaN                        0.0   \n",
       "\n",
       "    code_nature_culture nature_culture  surface_terrain  longitude   latitude  \n",
       "0                   NaN            NaN              NaN   6.019949  46.247458  \n",
       "3                     S           sols            988.0   5.438273  46.129859  \n",
       "4                     S           sols            835.0   5.225844  45.853513  \n",
       "7                     S           sols            921.0   6.083444  46.279993  \n",
       "14                  NaN            NaN              NaN   5.171364  46.269235  \n",
       "\n",
       "[5 rows x 24 columns]"
      ]
     },
     "execution_count": 11,
     "metadata": {},
     "output_type": "execute_result"
    }
   ],
   "source": [
    "# Define the list of allowed values for 'code_nature'\n",
    "code_type_local = [3, 2, 1, 4]\n",
    "\n",
    "# Filter the DataFrame to keep only rows where 'code_nature' is in the allowed list\n",
    "df_filtered = df_dvf[df_dvf['code_type_local'].isin(code_type_local)]\n",
    "\n",
    "# Drop duplicates based on 'id_mutation'\n",
    "df_unique_filtered = df_filtered.drop_duplicates(subset='id_mutation')\n",
    "\n",
    "# Display the resulting DataFrame\n",
    "df_unique_filtered.head()\n",
    "\n",
    "# folder_path_clean = '../data/processed/DVF'\n",
    "# output_file_clean = os.path.join(folder_path_clean, 'merged_dvf_data_clean.csv')\n",
    "# df_unique_filtered.to_csv(output_file_clean, index=False)"
   ]
  },
  {
   "cell_type": "markdown",
   "id": "62d2b662",
   "metadata": {},
   "source": [
    "### Distribution des variables quantitatives"
   ]
  },
  {
   "cell_type": "code",
   "execution_count": 12,
   "id": "877ff1e5",
   "metadata": {},
   "outputs": [
    {
     "data": {
      "application/vnd.microsoft.datawrangler.viewer.v0+json": {
       "columns": [
        {
         "name": "index",
         "rawType": "object",
         "type": "string"
        },
        {
         "name": "date_mutation",
         "rawType": "object",
         "type": "unknown"
        },
        {
         "name": "valeur_fonciere",
         "rawType": "float64",
         "type": "float"
        },
        {
         "name": "nombre_lots",
         "rawType": "float64",
         "type": "float"
        },
        {
         "name": "surface_reelle_bati",
         "rawType": "float64",
         "type": "float"
        },
        {
         "name": "nombre_pieces_principales",
         "rawType": "float64",
         "type": "float"
        },
        {
         "name": "surface_terrain",
         "rawType": "float64",
         "type": "float"
        },
        {
         "name": "longitude",
         "rawType": "float64",
         "type": "float"
        },
        {
         "name": "latitude",
         "rawType": "float64",
         "type": "float"
        }
       ],
       "conversionMethod": "pd.DataFrame",
       "ref": "9a6d58f8-9807-442e-a2a6-820a9a780ac5",
       "rows": [
        [
         "count",
         "1374458",
         "1372829.0",
         "1374458.0",
         "902973.0",
         "1372564.0",
         "713601.0",
         "1366417.0",
         "1366417.0"
        ],
        [
         "mean",
         "2023-09-19 19:10:51.393348864",
         "264350.034741712",
         "0.6732050015351506",
         "118.19937140977638",
         "2.0949988488697064",
         "805.181713590648",
         "2.4593896773064143",
         "46.101647032812096"
        ],
        [
         "min",
         "2023-01-02 00:00:00",
         "0.15",
         "0.0",
         "1.0",
         "0.0",
         "1.0",
         "-63.142704",
         "-21.386149"
        ],
        [
         "25%",
         "2023-05-11 00:00:00",
         "97000.0",
         "0.0",
         "51.0",
         "0.0",
         "225.0",
         "0.667942",
         "44.396022"
        ],
        [
         "50%",
         "2023-09-11 00:00:00",
         "172500.0",
         "0.0",
         "78.0",
         "2.0",
         "476.0",
         "2.411662",
         "46.997095"
        ],
        [
         "75%",
         "2024-01-29 00:00:00",
         "285000.0",
         "1.0",
         "105.0",
         "4.0",
         "783.0",
         "4.796792",
         "48.821369"
        ],
        [
         "max",
         "2024-06-30 00:00:00",
         "762000000.0",
         "236.0",
         "265000.0",
         "95.0",
         "2960000.0",
         "55.825269",
         "51.082069"
        ],
        [
         "std",
         null,
         "1327337.0629208102",
         "1.0320589030976732",
         "785.8872767341203",
         "2.1014406886943964",
         "4807.174067151612",
         "6.844789219593711",
         "6.2276255881697224"
        ]
       ],
       "shape": {
        "columns": 8,
        "rows": 8
       }
      },
      "text/html": [
       "<div>\n",
       "<style scoped>\n",
       "    .dataframe tbody tr th:only-of-type {\n",
       "        vertical-align: middle;\n",
       "    }\n",
       "\n",
       "    .dataframe tbody tr th {\n",
       "        vertical-align: top;\n",
       "    }\n",
       "\n",
       "    .dataframe thead th {\n",
       "        text-align: right;\n",
       "    }\n",
       "</style>\n",
       "<table border=\"1\" class=\"dataframe\">\n",
       "  <thead>\n",
       "    <tr style=\"text-align: right;\">\n",
       "      <th></th>\n",
       "      <th>date_mutation</th>\n",
       "      <th>valeur_fonciere</th>\n",
       "      <th>nombre_lots</th>\n",
       "      <th>surface_reelle_bati</th>\n",
       "      <th>nombre_pieces_principales</th>\n",
       "      <th>surface_terrain</th>\n",
       "      <th>longitude</th>\n",
       "      <th>latitude</th>\n",
       "    </tr>\n",
       "  </thead>\n",
       "  <tbody>\n",
       "    <tr>\n",
       "      <th>count</th>\n",
       "      <td>1374458</td>\n",
       "      <td>1.372829e+06</td>\n",
       "      <td>1.374458e+06</td>\n",
       "      <td>902973.000000</td>\n",
       "      <td>1.372564e+06</td>\n",
       "      <td>7.136010e+05</td>\n",
       "      <td>1.366417e+06</td>\n",
       "      <td>1.366417e+06</td>\n",
       "    </tr>\n",
       "    <tr>\n",
       "      <th>mean</th>\n",
       "      <td>2023-09-19 19:10:51.393348864</td>\n",
       "      <td>2.643500e+05</td>\n",
       "      <td>6.732050e-01</td>\n",
       "      <td>118.199371</td>\n",
       "      <td>2.094999e+00</td>\n",
       "      <td>8.051817e+02</td>\n",
       "      <td>2.459390e+00</td>\n",
       "      <td>4.610165e+01</td>\n",
       "    </tr>\n",
       "    <tr>\n",
       "      <th>min</th>\n",
       "      <td>2023-01-02 00:00:00</td>\n",
       "      <td>1.500000e-01</td>\n",
       "      <td>0.000000e+00</td>\n",
       "      <td>1.000000</td>\n",
       "      <td>0.000000e+00</td>\n",
       "      <td>1.000000e+00</td>\n",
       "      <td>-6.314270e+01</td>\n",
       "      <td>-2.138615e+01</td>\n",
       "    </tr>\n",
       "    <tr>\n",
       "      <th>25%</th>\n",
       "      <td>2023-05-11 00:00:00</td>\n",
       "      <td>9.700000e+04</td>\n",
       "      <td>0.000000e+00</td>\n",
       "      <td>51.000000</td>\n",
       "      <td>0.000000e+00</td>\n",
       "      <td>2.250000e+02</td>\n",
       "      <td>6.679420e-01</td>\n",
       "      <td>4.439602e+01</td>\n",
       "    </tr>\n",
       "    <tr>\n",
       "      <th>50%</th>\n",
       "      <td>2023-09-11 00:00:00</td>\n",
       "      <td>1.725000e+05</td>\n",
       "      <td>0.000000e+00</td>\n",
       "      <td>78.000000</td>\n",
       "      <td>2.000000e+00</td>\n",
       "      <td>4.760000e+02</td>\n",
       "      <td>2.411662e+00</td>\n",
       "      <td>4.699710e+01</td>\n",
       "    </tr>\n",
       "    <tr>\n",
       "      <th>75%</th>\n",
       "      <td>2024-01-29 00:00:00</td>\n",
       "      <td>2.850000e+05</td>\n",
       "      <td>1.000000e+00</td>\n",
       "      <td>105.000000</td>\n",
       "      <td>4.000000e+00</td>\n",
       "      <td>7.830000e+02</td>\n",
       "      <td>4.796792e+00</td>\n",
       "      <td>4.882137e+01</td>\n",
       "    </tr>\n",
       "    <tr>\n",
       "      <th>max</th>\n",
       "      <td>2024-06-30 00:00:00</td>\n",
       "      <td>7.620000e+08</td>\n",
       "      <td>2.360000e+02</td>\n",
       "      <td>265000.000000</td>\n",
       "      <td>9.500000e+01</td>\n",
       "      <td>2.960000e+06</td>\n",
       "      <td>5.582527e+01</td>\n",
       "      <td>5.108207e+01</td>\n",
       "    </tr>\n",
       "    <tr>\n",
       "      <th>std</th>\n",
       "      <td>NaN</td>\n",
       "      <td>1.327337e+06</td>\n",
       "      <td>1.032059e+00</td>\n",
       "      <td>785.887277</td>\n",
       "      <td>2.101441e+00</td>\n",
       "      <td>4.807174e+03</td>\n",
       "      <td>6.844789e+00</td>\n",
       "      <td>6.227626e+00</td>\n",
       "    </tr>\n",
       "  </tbody>\n",
       "</table>\n",
       "</div>"
      ],
      "text/plain": [
       "                       date_mutation  valeur_fonciere   nombre_lots  \\\n",
       "count                        1374458     1.372829e+06  1.374458e+06   \n",
       "mean   2023-09-19 19:10:51.393348864     2.643500e+05  6.732050e-01   \n",
       "min              2023-01-02 00:00:00     1.500000e-01  0.000000e+00   \n",
       "25%              2023-05-11 00:00:00     9.700000e+04  0.000000e+00   \n",
       "50%              2023-09-11 00:00:00     1.725000e+05  0.000000e+00   \n",
       "75%              2024-01-29 00:00:00     2.850000e+05  1.000000e+00   \n",
       "max              2024-06-30 00:00:00     7.620000e+08  2.360000e+02   \n",
       "std                              NaN     1.327337e+06  1.032059e+00   \n",
       "\n",
       "       surface_reelle_bati  nombre_pieces_principales  surface_terrain  \\\n",
       "count        902973.000000               1.372564e+06     7.136010e+05   \n",
       "mean            118.199371               2.094999e+00     8.051817e+02   \n",
       "min               1.000000               0.000000e+00     1.000000e+00   \n",
       "25%              51.000000               0.000000e+00     2.250000e+02   \n",
       "50%              78.000000               2.000000e+00     4.760000e+02   \n",
       "75%             105.000000               4.000000e+00     7.830000e+02   \n",
       "max          265000.000000               9.500000e+01     2.960000e+06   \n",
       "std             785.887277               2.101441e+00     4.807174e+03   \n",
       "\n",
       "          longitude      latitude  \n",
       "count  1.366417e+06  1.366417e+06  \n",
       "mean   2.459390e+00  4.610165e+01  \n",
       "min   -6.314270e+01 -2.138615e+01  \n",
       "25%    6.679420e-01  4.439602e+01  \n",
       "50%    2.411662e+00  4.699710e+01  \n",
       "75%    4.796792e+00  4.882137e+01  \n",
       "max    5.582527e+01  5.108207e+01  \n",
       "std    6.844789e+00  6.227626e+00  "
      ]
     },
     "execution_count": 12,
     "metadata": {},
     "output_type": "execute_result"
    }
   ],
   "source": [
    "df_dvf_remaining = df_unique_filtered\n",
    "df_dvf_remaining = df_dvf_remaining.drop(columns_checked,axis=1)\n",
    "df_dvf_remaining.describe()"
   ]
  },
  {
   "cell_type": "code",
   "execution_count": 13,
   "id": "e21f5b24",
   "metadata": {},
   "outputs": [
    {
     "name": "stdout",
     "output_type": "stream",
     "text": [
      "Column: date_mutation\n",
      "Column: valeur_fonciere\n",
      "Column: nombre_lots\n",
      "Column: surface_reelle_bati\n",
      "Column: nombre_pieces_principales\n",
      "Column: surface_terrain\n",
      "Column: longitude\n",
      "Column: latitude\n"
     ]
    }
   ],
   "source": [
    "for var_to_viz in df_dvf_remaining.columns:\n",
    "    print(f\"Column: {var_to_viz}\")"
   ]
  },
  {
   "cell_type": "code",
   "execution_count": 14,
   "id": "885da749",
   "metadata": {},
   "outputs": [
    {
     "data": {
      "image/png": "[encoded data removed]",
      "text/plain": [
       "<Figure size 800x400 with 1 Axes>"
      ]
     },
     "metadata": {},
     "output_type": "display_data"
    }
   ],
   "source": [
    "plt.figure(figsize=(8, 4))\n",
    "sns.histplot(data=df_dvf_remaining, x='date_mutation', bins=30)\n",
    "plt.title('Date Mutation Distribution')\n",
    "plt.xticks(rotation=45, fontsize=8)\n",
    "plt.yticks(fontsize=8)\n",
    "plt.tight_layout()\n",
    "plt.show()"
   ]
  },
  {
   "cell_type": "code",
   "execution_count": 15,
   "id": "0d3e5a4d",
   "metadata": {},
   "outputs": [
    {
     "data": {
      "image/png": "[encoded data removed]",
      "text/plain": [
       "<Figure size 800x400 with 1 Axes>"
      ]
     },
     "metadata": {},
     "output_type": "display_data"
    }
   ],
   "source": [
    "plt.figure(figsize=(8, 4))\n",
    "sns.histplot(data=df_dvf_remaining, x='date_mutation', bins=30, kde=True)\n",
    "plt.title('Date Mutation Distribution')\n",
    "plt.xticks(rotation=45, fontsize=8)\n",
    "plt.yticks(fontsize=8)\n",
    "plt.tight_layout()\n",
    "plt.show()"
   ]
  },
  {
   "cell_type": "code",
   "execution_count": 16,
   "id": "3acd6322",
   "metadata": {},
   "outputs": [
    {
     "data": {
      "image/png": "[encoded data removed]",
      "text/plain": [
       "<Figure size 800x400 with 1 Axes>"
      ]
     },
     "metadata": {},
     "output_type": "display_data"
    }
   ],
   "source": [
    "plt.figure(figsize=(8, 4))\n",
    "sns.histplot(data=df_dvf_remaining, x='valeur_fonciere', bins=30)\n",
    "plt.title('Valeur fonciere Distribution')\n",
    "plt.xticks(rotation=45, fontsize=8)\n",
    "plt.yticks(fontsize=8)\n",
    "plt.tight_layout()\n",
    "plt.show()"
   ]
  },
  {
   "cell_type": "markdown",
   "id": "36f9fb45",
   "metadata": {},
   "source": [
    "> Il est problable qu'il y ait eu un problème de collectecte et la présence d'outliners"
   ]
  },
  {
   "cell_type": "code",
   "execution_count": 17,
   "id": "ca71c2d6",
   "metadata": {},
   "outputs": [
    {
     "name": "stdout",
     "output_type": "stream",
     "text": [
      "<class 'pandas.core.frame.DataFrame'>\n",
      "Index: 1281778 entries, 3 to 5366048\n",
      "Data columns (total 8 columns):\n",
      " #   Column                     Non-Null Count    Dtype         \n",
      "---  ------                     --------------    -----         \n",
      " 0   date_mutation              1281778 non-null  datetime64[ns]\n",
      " 1   valeur_fonciere            1281778 non-null  float64       \n",
      " 2   nombre_lots                1281778 non-null  float64       \n",
      " 3   surface_reelle_bati        841779 non-null   float64       \n",
      " 4   nombre_pieces_principales  1280608 non-null  float64       \n",
      " 5   surface_terrain            657756 non-null   float64       \n",
      " 6   longitude                  1274595 non-null  float64       \n",
      " 7   latitude                   1274595 non-null  float64       \n",
      "dtypes: datetime64[ns](1), float64(7)\n",
      "memory usage: 88.0 MB\n"
     ]
    }
   ],
   "source": [
    "# Calculate the IQR for 'valeur_fonciere'\n",
    "Q1 = df_dvf_remaining[\"valeur_fonciere\"].quantile(0.25)  # First quartile (25th percentile)\n",
    "Q3 = df_dvf_remaining[\"valeur_fonciere\"].quantile(0.75)  # Third quartile (75th percentile)\n",
    "IQR = Q3 - Q1  # Interquartile range\n",
    "\n",
    "# Define the lower and upper bounds for outliers\n",
    "lower_bound = Q1 - 1.5 * IQR\n",
    "upper_bound = Q3 + 1.5 * IQR\n",
    "\n",
    "# Filter the DataFrame to remove outliers\n",
    "df_dvf_remaining = df_dvf_remaining[(df_dvf_remaining[\"valeur_fonciere\"] >= lower_bound) & (df_dvf_remaining[\"valeur_fonciere\"] <= upper_bound)]\n",
    "\n",
    "# # Save the cleaned data\n",
    "# df_dvf = grouped_df\n",
    "# folder_path_clean = '../data/processed/DVF'\n",
    "# output_file_clean = os.path.join(folder_path_clean, 'merged_dvf_data_clean.csv')\n",
    "# df_dvf.to_csv(output_file_clean, index=False)\n",
    "\n",
    "df_dvf_remaining.info(show_counts=True)"
   ]
  },
  {
   "cell_type": "code",
   "execution_count": 18,
   "id": "14b2829b",
   "metadata": {},
   "outputs": [
    {
     "data": {
      "image/png": "[encoded data removed]",
      "text/plain": [
       "<Figure size 800x400 with 1 Axes>"
      ]
     },
     "metadata": {},
     "output_type": "display_data"
    }
   ],
   "source": [
    "plt.figure(figsize=(8, 4))\n",
    "sns.histplot(data=df_dvf_remaining, x='valeur_fonciere', bins=30, kde=True)\n",
    "plt.title('Valeur foncière Distribution')\n",
    "plt.xticks(rotation=45, fontsize=8)\n",
    "plt.yticks(fontsize=8)\n",
    "plt.tight_layout()\n",
    "plt.show()"
   ]
  },
  {
   "cell_type": "code",
   "execution_count": 19,
   "id": "28e6cfc4",
   "metadata": {},
   "outputs": [
    {
     "data": {
      "image/png": "[encoded data removed]",
      "text/plain": [
       "<Figure size 800x400 with 1 Axes>"
      ]
     },
     "metadata": {},
     "output_type": "display_data"
    }
   ],
   "source": [
    "import numpy as np\n",
    "\n",
    "plt.figure(figsize=(8, 4))\n",
    "sns.histplot(data=df_dvf_remaining, x='nombre_pieces_principales', bins=25)\n",
    "\n",
    "# Set x-axis ticks with a specific scale (e.g., every 500,000 units)\n",
    "tick_positions = np.arange(0, 20, 1)\n",
    "plt.xticks(tick_positions, rotation=45, fontsize=8)\n",
    "plt.xlim(0, 20)\n",
    "\n",
    "# Add title and labels\n",
    "plt.title('Nombre de pièces principales Distribution', fontsize=12)\n",
    "plt.xlabel('Nombre de pièces principales', fontsize=10)\n",
    "plt.ylabel('Count', fontsize=10)\n",
    "\n",
    "# Show the plot\n",
    "plt.tight_layout()\n",
    "plt.show()"
   ]
  },
  {
   "cell_type": "code",
   "execution_count": 20,
   "id": "3238dce9",
   "metadata": {},
   "outputs": [
    {
     "data": {
      "image/png": "[encoded data removed]",
      "text/plain": [
       "<Figure size 800x400 with 1 Axes>"
      ]
     },
     "metadata": {},
     "output_type": "display_data"
    }
   ],
   "source": [
    "import numpy as np\n",
    "\n",
    "# Reset index to convert the grouped DataFrame back to a regular DataFrame\n",
    "\n",
    "plt.figure(figsize=(8, 4))\n",
    "sns.histplot(data=df_dvf_remaining, x='surface_terrain', bins=20000)\n",
    "\n",
    "# Set x-axis ticks with a specific scale (e.g., every 500,000 units)\n",
    "tick_positions = np.arange(0, 6000, 250)\n",
    "plt.xticks(tick_positions, rotation=45, fontsize=8)\n",
    "plt.xlim(0, 6000)\n",
    "\n",
    "# Add title and labels\n",
    "plt.title('Surface terrain Distribution', fontsize=12)\n",
    "plt.xlabel('Surface terrain Distribution', fontsize=10)\n",
    "plt.ylabel('Count', fontsize=10)\n",
    "\n",
    "# Show the plot\n",
    "plt.tight_layout()\n",
    "plt.show()"
   ]
  }
 ],
 "metadata": {
  "kernelspec": {
   "display_name": "base",
   "language": "python",
   "name": "python3"
  },
  "language_info": {
   "codemirror_mode": {
    "name": "ipython",
    "version": 3
   },
   "file_extension": ".py",
   "mimetype": "text/x-python",
   "name": "python",
   "nbconvert_exporter": "python",
   "pygments_lexer": "ipython3",
   "version": "3.12.3"
  }
 },
 "nbformat": 4,
 "nbformat_minor": 5
}
