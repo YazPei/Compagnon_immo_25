{
 "cells": [
  {
   "cell_type": "code",
   "execution_count": 1,
   "id": "d9a78696",
   "metadata": {},
   "outputs": [
    {
     "name": "stdout",
     "output_type": "stream",
     "text": [
      "Using matplotlib backend: module://matplotlib_inline.backend_inline\n"
     ]
    }
   ],
   "source": [
    "import os\n",
    "import pandas as pd\n",
    "\n",
    "import matplotlib.pyplot as plt\n",
    "\n",
    "%matplotlib"
   ]
  },
  {
   "cell_type": "code",
   "execution_count": null,
   "id": "ba811070",
   "metadata": {},
   "outputs": [],
   "source": [
    "# !pip install pandas\n",
    "# !pip install matplotlib"
   ]
  },
  {
   "cell_type": "code",
   "execution_count": 4,
   "id": "1e9d77b0",
   "metadata": {},
   "outputs": [
    {
     "name": "stdout",
     "output_type": "stream",
     "text": [
      "2.10.0\n"
     ]
    }
   ],
   "source": [
    "import tensorflow as tf\n",
    "print(tf.__version__)"
   ]
  },
  {
   "cell_type": "code",
   "execution_count": 21,
   "id": "56f48197",
   "metadata": {},
   "outputs": [],
   "source": [
    "## Paths\n",
    "# folder_path_M = '/Users/maximehenon/Documents/GitHub/MAR25_BDS_Compagnon_Immo/'\n",
    "# folder_path_Y = 'C:/Users/charl/OneDrive/Documents/Yasmine/DATASCIENTEST/FEV25-BDS-COMPAGNON'\n",
    "folder_path_C = '../data/processed/Sales'\n",
    "#folder_path_L= '/Users/loick.d/Documents/Datascientest/Github immo/MAR25_BDS_Compagnon_Immo/'\n",
    "\n",
    "# Reload datas\n",
    "# X_test_encoded = pd.read_csv(os.path.join(folder_path_M, 'X_test_encoded.csv'), sep=';')\n",
    "# X_train_encoded = pd.read_csv(os.path.join(folder_path_M, 'X_train_encoded.csv'), sep=';')\n",
    "# # y_train_clean = pd.read_csv(os.path.join(folder_path_M, 'y_train_clean.csv'), sep=';')\n",
    "# y_train = pd.read_csv(os.path.join(folder_path_M, 'y_train.csv'), sep=';')\n",
    "\n",
    "# X_test_encoded = pd.read_csv(os.path.join(folder_path_Y, 'X_test_encoded.csv'), sep=';')\n",
    "# X_train_encoded = pd.read_csv(os.path.join(folder_path_Y, 'X_train_encoded.csv'), sep=';')\n",
    "# # y_train_clean = pd.read_csv(os.path.join(folder_path_Y, 'y_train_clean.csv'), sep=';')\n",
    "# y_train = pd.read_csv(os.path.join(folder_path_Y, 'y_train.csv'), sep=';')\n",
    "\n",
    "X_test_encoded = pd.read_csv(os.path.join(folder_path_C, 'X_test_encoded.csv'), sep=';')\n",
    "X_train_encoded = pd.read_csv(os.path.join(folder_path_C, 'X_train_encoded.csv'), sep=';')\n",
    "# y_train_clean = pd.read_csv(os.path.join(folder_path_C, 'y_train_clean.csv'), sep=';')\n",
    "y_train = pd.read_csv(os.path.join(folder_path_C, 'y_train.csv'), sep=';')\n",
    "\n",
    "# X_test_encoded = pd.read_csv(os.path.join(folder_path_L, 'X_test_encoded.csv'), sep=';')\n",
    "# X_train_encoded = pd.read_csv(os.path.join(folder_path_L, 'X_train_encoded.csv'), sep=';')\n",
    "# # y_train_clean = pd.read_csv(os.path.join(folder_path_L, 'y_train_clean.csv'), sep=';')\n",
    "# y_train = pd.read_csv(os.path.join(folder_path_L, 'y_train.csv'), sep=';')\n",
    "\n",
    "total_rows = 4147030  # le nombre réel de lignes\n",
    "sample_size = int(0.1 * total_rows)\n",
    "\n",
    "X_test_encoded = pd.read_csv(os.path.join(folder_path_C, 'X_test_encoded.csv'), sep=';',nrows=sample_size)\n",
    "X_train_encoded = pd.read_csv(os.path.join(folder_path_C, 'X_train_encoded.csv'), sep=';',nrows=sample_size)\n",
    "y_test = pd.read_csv(os.path.join(folder_path_C, 'y_test.csv'), sep=';',nrows=sample_size)\n",
    "y_train = pd.read_csv(os.path.join(folder_path_C, 'y_train.csv'), sep=';',nrows=sample_size)\n"
   ]
  },
  {
   "cell_type": "code",
   "execution_count": 22,
   "id": "ad46a9d4",
   "metadata": {},
   "outputs": [],
   "source": [
    "# liste des features par RFE\n",
    "X_train_encoded = X_train_encoded[['surface', 'surface_terrain', 'dpeC', 'places_parking', 'charges_copro', 'duree_int', 'loyer_m2_median_n6', 'nb_log_n6', 'taux_rendement_n6', 'loyer_m2_median_n7', 'nb_log_n7', 'taux_rendement_n7', 'bain_outlier_flag', 'duree_int_outlier_flag', 'eau_outlier_flag', 'etage_outlier_flag', 'loyer_m2_median_n6_outlier_flag', 'loyer_m2_median_n7_outlier_flag', 'nb_log_n7_outlier_flag', 'nb_pieces_outlier_flag', 'nb_toilettes_outlier_flag', 'places_parking_outlier_flag', 'surface_outlier_flag', 'surface_terrain_outlier_flag', 'taux_rendement_n6_outlier_flag', 'taux_rendement_n7_outlier_flag', 'ges_class', 'dpeL', 'logement_neuf', 'nb_pieces', 'bain', 'eau', 'nb_toilettes', 'exposition', 'chauffage_energie', 'chauffage_systeme', 'date', 'nb_etages', 'typedebien_a', 'typedebien_an', 'typedebien_m', 'typedebien_mn', 'typedetransaction_vp', 'cave', 'annee_construction_1948-1974', 'annee_construction_2001-2005', 'annee_construction_2006-2012', 'annee_construction_2013-2021', 'annee_construction_MISSING', 'annee_construction_après 2021', 'annee_construction_avant 1948', 'porte_digicode', 'ascenseur', 'chauffage_mode_Individuel', 'chauffage_mode_Individuel, Central', 'chauffage_mode_MISSING', 'x_geo', 'y_geo', 'z_geo']]\n",
    "X_test_encoded = X_test_encoded[['surface', 'surface_terrain', 'dpeC', 'places_parking', 'charges_copro', 'duree_int', 'loyer_m2_median_n6', 'nb_log_n6', 'taux_rendement_n6', 'loyer_m2_median_n7', 'nb_log_n7', 'taux_rendement_n7', 'bain_outlier_flag', 'duree_int_outlier_flag', 'eau_outlier_flag', 'etage_outlier_flag', 'loyer_m2_median_n6_outlier_flag', 'loyer_m2_median_n7_outlier_flag', 'nb_log_n7_outlier_flag', 'nb_pieces_outlier_flag', 'nb_toilettes_outlier_flag', 'places_parking_outlier_flag', 'surface_outlier_flag', 'surface_terrain_outlier_flag', 'taux_rendement_n6_outlier_flag', 'taux_rendement_n7_outlier_flag', 'ges_class', 'dpeL', 'logement_neuf', 'nb_pieces', 'bain', 'eau', 'nb_toilettes', 'exposition', 'chauffage_energie', 'chauffage_systeme', 'date', 'nb_etages', 'typedebien_a', 'typedebien_an', 'typedebien_m', 'typedebien_mn', 'typedetransaction_vp', 'cave', 'annee_construction_1948-1974', 'annee_construction_2001-2005', 'annee_construction_2006-2012', 'annee_construction_2013-2021', 'annee_construction_MISSING', 'annee_construction_après 2021', 'annee_construction_avant 1948', 'porte_digicode', 'ascenseur', 'chauffage_mode_Individuel', 'chauffage_mode_Individuel, Central', 'chauffage_mode_MISSING', 'x_geo', 'y_geo', 'z_geo']]\n"
   ]
  },
  {
   "cell_type": "code",
   "execution_count": null,
   "id": "5e2cdc76",
   "metadata": {},
   "outputs": [
    {
     "name": "stdout",
     "output_type": "stream",
     "text": [
      "surface                               float64\n",
      "surface_terrain                       float64\n",
      "dpeC                                  float64\n",
      "places_parking                        float64\n",
      "charges_copro                         float64\n",
      "duree_int                             float64\n",
      "loyer_m2_median_n6                    float64\n",
      "nb_log_n6                             float64\n",
      "taux_rendement_n6                     float64\n",
      "loyer_m2_median_n7                    float64\n",
      "nb_log_n7                             float64\n",
      "taux_rendement_n7                     float64\n",
      "bain_outlier_flag                       int64\n",
      "duree_int_outlier_flag                  int64\n",
      "eau_outlier_flag                        int64\n",
      "etage_outlier_flag                      int64\n",
      "loyer_m2_median_n6_outlier_flag         int64\n",
      "loyer_m2_median_n7_outlier_flag         int64\n",
      "nb_log_n7_outlier_flag                  int64\n",
      "nb_pieces_outlier_flag                  int64\n",
      "nb_toilettes_outlier_flag               int64\n",
      "places_parking_outlier_flag             int64\n",
      "surface_outlier_flag                    int64\n",
      "surface_terrain_outlier_flag            int64\n",
      "taux_rendement_n6_outlier_flag          int64\n",
      "taux_rendement_n7_outlier_flag          int64\n",
      "ges_class                             float64\n",
      "dpeL                                  float64\n",
      "logement_neuf                         float64\n",
      "nb_pieces                             float64\n",
      "bain                                  float64\n",
      "eau                                   float64\n",
      "nb_toilettes                          float64\n",
      "exposition                            float64\n",
      "chauffage_energie                     float64\n",
      "chauffage_systeme                     float64\n",
      "date                                  float64\n",
      "nb_etages                             float64\n",
      "typedebien_a                          float64\n",
      "typedebien_an                         float64\n",
      "typedebien_m                          float64\n",
      "typedebien_mn                         float64\n",
      "typedetransaction_vp                  float64\n",
      "cave                                    int32\n",
      "annee_construction_1948-1974          float64\n",
      "annee_construction_2001-2005          float64\n",
      "annee_construction_2006-2012          float64\n",
      "annee_construction_2013-2021          float64\n",
      "annee_construction_MISSING            float64\n",
      "annee_construction_après 2021         float64\n",
      "annee_construction_avant 1948         float64\n",
      "porte_digicode                          int32\n",
      "ascenseur                               int32\n",
      "chauffage_mode_Individuel             float64\n",
      "chauffage_mode_Individuel, Central    float64\n",
      "chauffage_mode_MISSING                float64\n",
      "x_geo                                 float64\n",
      "y_geo                                 float64\n",
      "z_geo                                 float64\n",
      "dtype: object\n"
     ]
    }
   ],
   "source": [
    "# print(type(X_train_encoded))  # Should be (num_samples, 60)\n",
    "# print(type(X_test_encoded))  # Should be (num_samples, 60)\n",
    "X_train_encoded['porte_digicode'] = X_train_encoded['porte_digicode'].astype(int)\n",
    "X_train_encoded['ascenseur'] = X_train_encoded['ascenseur'].astype(int)\n",
    "X_train_encoded['cave'] = X_train_encoded['cave'].astype(int)\n",
    "print(X_train_encoded.dtypes)"
   ]
  },
  {
   "cell_type": "code",
   "execution_count": null,
   "id": "f523f381",
   "metadata": {},
   "outputs": [
    {
     "name": "stdout",
     "output_type": "stream",
     "text": [
      "Epoch 1/10\n",
      "12665/33177 [==========>...................] - ETA: 15s - loss: 3958954.2500"
     ]
    }
   ],
   "source": [
    "from tensorflow.keras.models import Sequential\n",
    "from tensorflow.keras.layers import Dense\n",
    "from tensorflow.keras.optimizers import Adam\n",
    "\n",
    "import tensorflow as tf\n",
    "\n",
    "\n",
    "\n",
    "# Construction du modèle\n",
    "model = Sequential()\n",
    "model.add(Dense(64, activation='relu', input_shape=(59,)))\n",
    "model.add(Dense(64, activation='relu'))                     \n",
    "model.add(Dense(1))                                         \n",
    "\n",
    "# Compilation du modèle\n",
    "model.compile(optimizer=Adam(learning_rate=0.001), loss='mse')\n",
    "\n",
    "\n",
    "\n",
    "# Entraînement du modèle\n",
    "model.fit(X_train_encoded, y_train, epochs=10, batch_size=10, validation_split=0.2)\n",
    "\n",
    "loss = model.evaluate(X_test_encoded, y_test)\n",
    "print(f'Loss sur les données de test: {loss}')\n",
    "\n",
    "# Prédiction\n",
    "predictions = model.predict(X_test_encoded)\n",
    "print(predictions)"
   ]
  },
  {
   "cell_type": "code",
   "execution_count": null,
   "id": "47a5dff2",
   "metadata": {},
   "outputs": [
    {
     "data": {
      "text/plain": [
       "(414703, 1)"
      ]
     },
     "execution_count": 6,
     "metadata": {},
     "output_type": "execute_result"
    }
   ],
   "source": [
    "residus = predictions[0] - y_test['prix_m2_vente']\n",
    "residus = pd.DataFrame(residus)\n",
    "# display(residus.describe())\n",
    "residus.shape"
   ]
  },
  {
   "cell_type": "code",
   "execution_count": null,
   "id": "77a5c475",
   "metadata": {},
   "outputs": [
    {
     "data": {
      "text/plain": [
       "(0.0, 19864.25)"
      ]
     },
     "execution_count": 7,
     "metadata": {},
     "output_type": "execute_result"
    },
    {
     "data": {
      "image/png": "[encoded data removed]",
      "text/plain": [
       "<Figure size 640x480 with 1 Axes>"
      ]
     },
     "metadata": {},
     "output_type": "display_data"
    }
   ],
   "source": [
    "plt.plot((y_test['prix_m2_vente'].min(), y_test['prix_m2_vente'].max()), (0, 0), lw=3, color='red');\n",
    "plt.plot(predictions, y_test['prix_m2_vente'], 'o', color='Green', markersize=1)\n",
    "plt.scatter(y_test['prix_m2_vente'], residus['prix_m2_vente'], color='black', s=1)\n",
    "plt.xlabel('Prédictions du modèle')\n",
    "plt.xlim(0,y_train['prix_m2_vente'].max()) #  y_train.max())\n"
   ]
  }
 ],
 "metadata": {
  "kernelspec": {
   "display_name": "Python 3",
   "language": "python",
   "name": "python3"
  },
  "language_info": {
   "codemirror_mode": {
    "name": "ipython",
    "version": 3
   },
   "file_extension": ".py",
   "mimetype": "text/x-python",
   "name": "python",
   "nbconvert_exporter": "python",
   "pygments_lexer": "ipython3",
   "version": "3.10.13"
  }
 },
 "nbformat": 4,
 "nbformat_minor": 5
}
